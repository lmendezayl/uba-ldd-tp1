{
 "cells": [
  {
   "cell_type": "markdown",
   "id": "5f162ac8-7675-4e21-8ad1-22ad24708467",
   "metadata": {},
   "source": [
    "# Trabajo Práctico 1 - Laboratorio de Datos - 1C 2025"
   ]
  },
  {
   "cell_type": "markdown",
   "id": "986b9ffd-7146-4fc6-91f7-cb67d8c1268f",
   "metadata": {},
   "source": [
    "**Integrantes del grupo:**\n",
    "- Lautaro Evaristo Mendez\n",
    "- Franco Zalazar\n",
    "- Luca Petrarca"
   ]
  },
  {
   "cell_type": "code",
   "execution_count": 1,
   "id": "6c86fc5e-5f3d-42f2-b6a2-e20353cb903f",
   "metadata": {},
   "outputs": [],
   "source": [
    "# Si requieren mas librerias, pueden importarlas aca\n",
    "import numpy as np\n",
    "import pandas as pd\n",
    "import geopandas as gpd\n",
    "import seaborn as sns\n",
    "import seaborn.objects as so\n",
    "import json \n",
    "import plotly.express as px\n",
    "from formulaic import Formula\n",
    "from sklearn import linear_model  \n",
    "from sklearn.metrics import mean_squared_error, r2_score, root_mean_squared_error  \n",
    "\n",
    "# Si no existe root_mean_squared_error, quitarlo o actualizar scikit-learn con el comando\n",
    "#!pip install scikit-learn --upgrade"
   ]
  },
  {
   "cell_type": "code",
   "execution_count": 4,
   "id": "57a5e3f7-d24a-4aac-a682-74d27f6898f7",
   "metadata": {},
   "outputs": [
    {
     "data": {
      "text/html": [
       "<div>\n",
       "<style scoped>\n",
       "    .dataframe tbody tr th:only-of-type {\n",
       "        vertical-align: middle;\n",
       "    }\n",
       "\n",
       "    .dataframe tbody tr th {\n",
       "        vertical-align: top;\n",
       "    }\n",
       "\n",
       "    .dataframe thead th {\n",
       "        text-align: right;\n",
       "    }\n",
       "</style>\n",
       "<table border=\"1\" class=\"dataframe\">\n",
       "  <thead>\n",
       "    <tr style=\"text-align: right;\">\n",
       "      <th></th>\n",
       "      <th>anio</th>\n",
       "      <th>municipio_id</th>\n",
       "      <th>municipio_nombre</th>\n",
       "      <th>promocion_efectiva_primaria</th>\n",
       "      <th>promocion_efectiva_secundaria</th>\n",
       "      <th>repitencia_primaria</th>\n",
       "      <th>repitencia_secundaria</th>\n",
       "      <th>reinscripcion_primaria</th>\n",
       "      <th>reinscripcion_secundaria</th>\n",
       "      <th>abandono_interanual_primaria</th>\n",
       "      <th>...</th>\n",
       "      <th>alumnos_no_promovidos_primaria</th>\n",
       "      <th>alumnos_no_promovidos_secundaria</th>\n",
       "      <th>salidos_sin_pase_primaria</th>\n",
       "      <th>salidos_sin_pase_secundaria</th>\n",
       "      <th>salidos_con_pase_primaria</th>\n",
       "      <th>salidos_con_pase_secundaria</th>\n",
       "      <th>sobreedad_primaria</th>\n",
       "      <th>sobreedad_secundaria</th>\n",
       "      <th>sobreedad_avanzada_primaria</th>\n",
       "      <th>sobreedad_avanzada_secundaria</th>\n",
       "    </tr>\n",
       "  </thead>\n",
       "  <tbody>\n",
       "    <tr>\n",
       "      <th>0</th>\n",
       "      <td>2012</td>\n",
       "      <td>6007</td>\n",
       "      <td>Adolfo Alsina</td>\n",
       "      <td>100.26</td>\n",
       "      <td>84.14</td>\n",
       "      <td>1.25</td>\n",
       "      <td>9.06</td>\n",
       "      <td>0.07</td>\n",
       "      <td>1.79</td>\n",
       "      <td>-1.57</td>\n",
       "      <td>...</td>\n",
       "      <td>1.45</td>\n",
       "      <td>18.54</td>\n",
       "      <td>0.00</td>\n",
       "      <td>2.71</td>\n",
       "      <td>5.40</td>\n",
       "      <td>2.90</td>\n",
       "      <td>12.61</td>\n",
       "      <td>26.77</td>\n",
       "      <td>4.01</td>\n",
       "      <td>12.28</td>\n",
       "    </tr>\n",
       "    <tr>\n",
       "      <th>1</th>\n",
       "      <td>2013</td>\n",
       "      <td>6007</td>\n",
       "      <td>Adolfo Alsina</td>\n",
       "      <td>97.35</td>\n",
       "      <td>86.84</td>\n",
       "      <td>1.68</td>\n",
       "      <td>5.31</td>\n",
       "      <td>0.13</td>\n",
       "      <td>0.12</td>\n",
       "      <td>0.84</td>\n",
       "      <td>...</td>\n",
       "      <td>0.70</td>\n",
       "      <td>9.48</td>\n",
       "      <td>0.30</td>\n",
       "      <td>2.77</td>\n",
       "      <td>5.02</td>\n",
       "      <td>5.72</td>\n",
       "      <td>10.27</td>\n",
       "      <td>26.27</td>\n",
       "      <td>3.42</td>\n",
       "      <td>11.51</td>\n",
       "    </tr>\n",
       "    <tr>\n",
       "      <th>2</th>\n",
       "      <td>2014</td>\n",
       "      <td>6007</td>\n",
       "      <td>Adolfo Alsina</td>\n",
       "      <td>97.36</td>\n",
       "      <td>80.79</td>\n",
       "      <td>2.23</td>\n",
       "      <td>2.52</td>\n",
       "      <td>0.07</td>\n",
       "      <td>0.43</td>\n",
       "      <td>0.34</td>\n",
       "      <td>...</td>\n",
       "      <td>0.69</td>\n",
       "      <td>9.13</td>\n",
       "      <td>0.13</td>\n",
       "      <td>2.11</td>\n",
       "      <td>4.84</td>\n",
       "      <td>4.31</td>\n",
       "      <td>8.46</td>\n",
       "      <td>25.06</td>\n",
       "      <td>2.51</td>\n",
       "      <td>9.17</td>\n",
       "    </tr>\n",
       "    <tr>\n",
       "      <th>3</th>\n",
       "      <td>2015</td>\n",
       "      <td>6007</td>\n",
       "      <td>Adolfo Alsina</td>\n",
       "      <td>96.00</td>\n",
       "      <td>91.55</td>\n",
       "      <td>2.41</td>\n",
       "      <td>5.24</td>\n",
       "      <td>0.21</td>\n",
       "      <td>0.85</td>\n",
       "      <td>1.38</td>\n",
       "      <td>...</td>\n",
       "      <td>1.47</td>\n",
       "      <td>8.62</td>\n",
       "      <td>0.33</td>\n",
       "      <td>2.49</td>\n",
       "      <td>4.96</td>\n",
       "      <td>4.64</td>\n",
       "      <td>7.16</td>\n",
       "      <td>30.85</td>\n",
       "      <td>1.86</td>\n",
       "      <td>10.51</td>\n",
       "    </tr>\n",
       "    <tr>\n",
       "      <th>4</th>\n",
       "      <td>2016</td>\n",
       "      <td>6007</td>\n",
       "      <td>Adolfo Alsina</td>\n",
       "      <td>97.67</td>\n",
       "      <td>95.56</td>\n",
       "      <td>2.61</td>\n",
       "      <td>7.27</td>\n",
       "      <td>0.07</td>\n",
       "      <td>1.29</td>\n",
       "      <td>-0.35</td>\n",
       "      <td>...</td>\n",
       "      <td>1.58</td>\n",
       "      <td>6.95</td>\n",
       "      <td>0.14</td>\n",
       "      <td>2.79</td>\n",
       "      <td>4.72</td>\n",
       "      <td>3.57</td>\n",
       "      <td>6.81</td>\n",
       "      <td>26.13</td>\n",
       "      <td>1.69</td>\n",
       "      <td>8.24</td>\n",
       "    </tr>\n",
       "  </tbody>\n",
       "</table>\n",
       "<p>5 rows × 23 columns</p>\n",
       "</div>"
      ],
      "text/plain": [
       "   anio  municipio_id municipio_nombre  promocion_efectiva_primaria  \\\n",
       "0  2012          6007    Adolfo Alsina                       100.26   \n",
       "1  2013          6007    Adolfo Alsina                        97.35   \n",
       "2  2014          6007    Adolfo Alsina                        97.36   \n",
       "3  2015          6007    Adolfo Alsina                        96.00   \n",
       "4  2016          6007    Adolfo Alsina                        97.67   \n",
       "\n",
       "   promocion_efectiva_secundaria  repitencia_primaria  repitencia_secundaria  \\\n",
       "0                          84.14                 1.25                   9.06   \n",
       "1                          86.84                 1.68                   5.31   \n",
       "2                          80.79                 2.23                   2.52   \n",
       "3                          91.55                 2.41                   5.24   \n",
       "4                          95.56                 2.61                   7.27   \n",
       "\n",
       "   reinscripcion_primaria  reinscripcion_secundaria  \\\n",
       "0                    0.07                      1.79   \n",
       "1                    0.13                      0.12   \n",
       "2                    0.07                      0.43   \n",
       "3                    0.21                      0.85   \n",
       "4                    0.07                      1.29   \n",
       "\n",
       "   abandono_interanual_primaria  ...  alumnos_no_promovidos_primaria  \\\n",
       "0                         -1.57  ...                            1.45   \n",
       "1                          0.84  ...                            0.70   \n",
       "2                          0.34  ...                            0.69   \n",
       "3                          1.38  ...                            1.47   \n",
       "4                         -0.35  ...                            1.58   \n",
       "\n",
       "   alumnos_no_promovidos_secundaria  salidos_sin_pase_primaria  \\\n",
       "0                             18.54                       0.00   \n",
       "1                              9.48                       0.30   \n",
       "2                              9.13                       0.13   \n",
       "3                              8.62                       0.33   \n",
       "4                              6.95                       0.14   \n",
       "\n",
       "   salidos_sin_pase_secundaria  salidos_con_pase_primaria  \\\n",
       "0                         2.71                       5.40   \n",
       "1                         2.77                       5.02   \n",
       "2                         2.11                       4.84   \n",
       "3                         2.49                       4.96   \n",
       "4                         2.79                       4.72   \n",
       "\n",
       "   salidos_con_pase_secundaria  sobreedad_primaria  sobreedad_secundaria  \\\n",
       "0                         2.90               12.61                 26.77   \n",
       "1                         5.72               10.27                 26.27   \n",
       "2                         4.31                8.46                 25.06   \n",
       "3                         4.64                7.16                 30.85   \n",
       "4                         3.57                6.81                 26.13   \n",
       "\n",
       "   sobreedad_avanzada_primaria  sobreedad_avanzada_secundaria  \n",
       "0                         4.01                          12.28  \n",
       "1                         3.42                          11.51  \n",
       "2                         2.51                           9.17  \n",
       "3                         1.86                          10.51  \n",
       "4                         1.69                           8.24  \n",
       "\n",
       "[5 rows x 23 columns]"
      ]
     },
     "execution_count": 4,
     "metadata": {},
     "output_type": "execute_result"
    }
   ],
   "source": [
    "df_educacion = pd.read_csv('./indicadores-proceso-trayectoria-sobreedad-2012_2022.csv')\n",
    "df_educacion.head()"
   ]
  },
  {
   "cell_type": "markdown",
   "id": "bc6786da-7ec9-453a-8f71-b5f4b83386e9",
   "metadata": {},
   "source": [
    "### Procesamiento de Datos\n",
    "\n",
    "En esta primera sección, vamos implementar algunas acciones básicas de procesamiento de nuestros datos"
   ]
  },
  {
   "cell_type": "markdown",
   "id": "88ef1408",
   "metadata": {},
   "source": [
    "#### Ejercicio 1\n",
    "Describir el tipo de variable de cada columna"
   ]
  },
  {
   "cell_type": "markdown",
   "id": "64060de9",
   "metadata": {},
   "source": [
    "#### Ejercicio 2\n",
    "¿La base de datos contiene datos faltantes? ¿Cuántos?"
   ]
  },
  {
   "cell_type": "markdown",
   "id": "1c338364",
   "metadata": {},
   "source": [
    "#### Ejercicio 3\n",
    "Además de la división por municipio, nos interesa saber a que zona de la provincia pertenececada municipio (Zona Norte, Zona Oeste , Zona Sur e Interior). Para esto:\n",
    "1. Implementar una función `determinar_zona` que, dado el nombre de un municipio, de-\n",
    "vuelva a que zona pertencece: ’Norte’, ’Oeste’, ’Sur’ o ’Interior’.\n",
    "2. Agregar la columna zona a `df_educacion` que contenga la zona a la que pertenece el\n",
    "municipio.\n",
    "*Sugerencia*: tener en cuenta el método `apply`"
   ]
  },
  {
   "cell_type": "code",
   "execution_count": null,
   "id": "fe9d3368-1bb0-4521-8ac9-3b3b3e26f177",
   "metadata": {},
   "outputs": [],
   "source": [
    "zona_norte = ['San Isidro', 'Vicente Lopez', 'General San Martin', 'San Fernando', 'Tigre']\n",
    "zona_oeste = ['Moron', 'Tres de Febrero', 'La Matanza', 'Merlo', 'Moreno']\n",
    "zona_sur = ['Almirante Brown', 'Avellaneda', 'Quilmes', 'Lanus', 'Florencio Varela', 'Berazategui', 'Lomas de Zamora', 'Esteban Echeverria']"
   ]
  },
  {
   "cell_type": "markdown",
   "id": "afefd563",
   "metadata": {},
   "source": [
    "#### Ejercicio 4\n",
    "\n",
    "Quisiéramos analizar si en general la tasa de repitencia es más alta en primaria que en secundaria. Para esto:\n",
    "1. Agregar una columna `mayor_repitencia_primaria` a `df_educacion` que indique si ocurre\n",
    "esta situación.\n",
    "2. Mostrar en una Serie de `pandas` cuantas veces entre los años 2017 y 2022 (inclusive) la repitencia es más alta en primaria que en secundaria para cada municipio.\n",
    "3. Mostrar en un DataFrame la media de repitencia en primaria y la media de repitencia en secundaria agrupados por año y por zona."
   ]
  },
  {
   "cell_type": "markdown",
   "id": "0a00ea3f-44e6-450c-92d7-19fd50455b66",
   "metadata": {},
   "source": [
    "### Regresión\n",
    "En esta sección, sugerimos que, una vez realizada una Regresión, utilicen los valores de $β_0$ y $β_1$ para predecir, en vez del método `predict` de `scikit-learn`."
   ]
  },
  {
   "cell_type": "markdown",
   "id": "3d8574c7",
   "metadata": {},
   "source": [
    "#### Ejercicio 1\n",
    "Reproducir el siguiente gráfico sobre la evolución de la sobreedad en secundaria promedio en la Provincia de Buenos Aires a lo largo de los años:"
   ]
  },
  {
   "cell_type": "markdown",
   "id": "35096dea",
   "metadata": {},
   "source": [
    "#### Ejercicio 2\n",
    "Realizando una Regresión Lineal, predecir para el año 2025 la sobreedad en secundaria promedio en la Provincia de Buenos Aires"
   ]
  },
  {
   "cell_type": "markdown",
   "id": "66e19ca3",
   "metadata": {},
   "source": [
    "#### Ejercicio 3\n",
    "Para cada municipio del Área Metropolitana, mediante Regresión Lineal, predecir la sobreedad en secundaria para el 2025. Elaborar un DataFrame indexado por el nombre del municipio, con dos columnas: `sobreedad_2025` con el resultado de la predicción para 2025 \n",
    "y `menor_que_promedio` que indique con un booleano si la predicción es menor al valor calculado en el ítem anterior.\n",
    "\n",
    "**Sugerencia**: puede basarse en la siguiente estructura\n"
   ]
  },
  {
   "cell_type": "code",
   "execution_count": 6,
   "id": "728e8914",
   "metadata": {},
   "outputs": [
    {
     "data": {
      "text/plain": [
       "\"\\nprediccion_data = []\\nmenor_que_promedio_data = []\\nfor partido in area_metropolitana:\\n    #########################\\n    # Realizar la regresion #\\n    #########################\\n    prediccion_data.append(???)\\n    mejor_que_promedio_data.append(???)\\npredicciones_df = pd.DataFrame(\\n    data = {'prediccion_2025': ???, 'mejor_que_promedio': ???},\\n    index = ???\\n)\\n\""
      ]
     },
     "execution_count": 6,
     "metadata": {},
     "output_type": "execute_result"
    }
   ],
   "source": [
    "\"\"\"\n",
    "prediccion_data = []\n",
    "menor_que_promedio_data = []\n",
    "for partido in area_metropolitana:\n",
    "    #########################\n",
    "    # Realizar la regresion #\n",
    "    #########################\n",
    "    prediccion_data.append(???)\n",
    "    mejor_que_promedio_data.append(???)\n",
    "predicciones_df = pd.DataFrame(\n",
    "    data = {'prediccion_2025': ???, 'mejor_que_promedio': ???},\n",
    "    index = ???\n",
    ")\n",
    "\"\"\""
   ]
  },
  {
   "cell_type": "code",
   "execution_count": null,
   "id": "610bd51f-e82b-450d-bf00-6e54b2803bfe",
   "metadata": {},
   "outputs": [],
   "source": [
    "area_metropolitana = ['Almirante Brown', 'Avellaneda', 'Berazategui', 'Berisso', 'Brandsen', 'Campana', 'Cañuelas',\n",
    "                      'Ensenada', 'Escobar', 'Esteban Echeverria', 'Exaltacion de la Cruz', 'Ezeiza',\n",
    "                      'Florencio Varela', 'General Las Heras', 'General Rodriguez', 'General San Martin', 'Hurlingham',\n",
    "                      'Ituzaingo', 'Jose C. Paz', 'La Matanza', 'La Plata', 'Lanus', 'Lujan', 'Lomas de Zamora',\n",
    "                      'Malvinas Argentinas', 'Marcos Paz', 'Merlo', 'Moreno', 'Moron', 'Pilar', 'Presidente Peron',\n",
    "                      'Quilmes', 'San Fernando', 'San Isidro', 'San Miguel', 'San Vicente', 'Tigre', 'Tres de Febrero',\n",
    "                      'Vicente Lopez', 'Zarate']"
   ]
  },
  {
   "cell_type": "markdown",
   "id": "f5a6c683-6fd5-4556-b3f0-ded5227d7a72",
   "metadata": {},
   "source": [
    "### Visualización con datos geográficos\n",
    "El objetivo de esta parte del TP es visualizar datos sobre un mapa de Buenos Aires. Para esto, utilizaremos las librerías `geopandas`, que nos permite trabajar con un .geojson como si fuera un DataFrame de `pandas`, y `plotly` para generar mapas interactivos"
   ]
  },
  {
   "cell_type": "markdown",
   "id": "48474f28",
   "metadata": {},
   "source": [
    "#### Ejercicio 1\n",
    "Cargar los datos de `partidos.geojson` utilizando `geopandas`:\n",
    "\n"
   ]
  },
  {
   "cell_type": "code",
   "execution_count": null,
   "id": "4a4c200f",
   "metadata": {},
   "outputs": [],
   "source": [
    "# Cargamos el archivo de datos\n",
    "geo_df = gpd.read_file('partidos.geojson')"
   ]
  },
  {
   "cell_type": "markdown",
   "id": "43180c16",
   "metadata": {},
   "source": [
    "\n",
    "Si imprimimos `geo_df` observamos que cada fila corresponde a un municipio con distintas\n",
    "características y, además, hay una columna `geometry` que tiene las coordenadas de los límites de los partidos. Pueden visualizar estos datos con `geo_df.plot()`."
   ]
  },
  {
   "cell_type": "code",
   "execution_count": null,
   "id": "75c2f6d5",
   "metadata": {},
   "outputs": [],
   "source": [
    "# Visualizamos los partidos\n",
    "geo_df.plot()"
   ]
  },
  {
   "cell_type": "markdown",
   "metadata": {},
   "source": [
    "#### Ejercicio 2\n",
    "Identificar qué columna se corresponde al número de identificación de cada municipio. Mostrar\n",
    "todos los municipios con números de identificación repetidos.\n",
    "**Sugerencia**: utilizar el argumento `keep` del método `duplicated`"
   ]
  },
  {
   "cell_type": "markdown",
   "id": "de025320",
   "metadata": {},
   "source": [
    "#### Ejercicio 3\n",
    "Aplicar las siguientes modificaciones a `geo_df`:\n",
    "1. eliminar las filas que correspondan a islas de partidos (por ejemplo, Islas Ramallo).\n",
    "2. convertir la columna `cde` a numérica (recordar el método `astype`)\n",
    "3. corregir los valores en la columna cde para los partidos de Chascomús y Lezama, para\n",
    "que coincidan con sus valores en la columna `municipio_id` de `df_educacion`. **Sugerencia**: puede basarse en el siguiente código para corregir los valores:\n",
    "\n",
    "`geo_df.loc[geo_df[???] == ???, <columna a modificar>] = ???`\n",
    "\n",
    "Finalmente, exportar `geo_df` como un GeoJSON llamado `partidos_limpio.geojson`:"
   ]
  },
  {
   "cell_type": "code",
   "execution_count": null,
   "id": "0799a3b2",
   "metadata": {},
   "outputs": [],
   "source": [
    "# Grabamos los datos limpios en un nuevo archivo GeoJSON\n",
    "geo_df.to_file('partidos_limpio.geojson', driver='GeoJSON')"
   ]
  },
  {
   "cell_type": "code",
   "execution_count": null,
   "id": "50696f20",
   "metadata": {},
   "outputs": [],
   "source": [
    "# Limpieza de datos. Seguir las indicaciones en la consigna del TP para este paso.\n"
   ]
  },
  {
   "cell_type": "markdown",
   "id": "f81c7add",
   "metadata": {},
   "source": [
    "#### Ejercicio 4\n",
    "A partir del DataFrame `df_educacion`, crear un DataFrame `repit` que tenga tres colum-\n",
    "nas: `cde` con el código del municipio, `municipio_nombre` con el nombre del municipio y\n",
    "`repitencia_secundaria` con el promedio de repitencia en secundaria del municipio.\n",
    "\n",
    "**Sugerencia**: Partir de `df_educacion.groupby(['municipio_id', 'municipio_nombre'])`.\n",
    "Si obtienen una serie con multi-indices, pueden convertirlo a DataFrame con columnas para los índices utilizando `.reset_index()`. O si ingresan el nombre de la columna `repitencia_secundaria` entre doble corchetes, obtienen también un DataFrame con las tres columnas"
   ]
  },
  {
   "cell_type": "code",
   "execution_count": null,
   "id": "a3ae70c0",
   "metadata": {},
   "outputs": [],
   "source": [
    "# Creamos un DataFrame repit con los datos de repitencia siguiendo la consigna del TP\n",
    "\n",
    "\n",
    "\n"
   ]
  },
  {
   "cell_type": "markdown",
   "id": "26791890",
   "metadata": {},
   "source": [
    "#### Ejercicio 5\n",
    "Con el siguiente código podemos elaborar un mapa interactivo:"
   ]
  },
  {
   "cell_type": "code",
   "execution_count": null,
   "id": "3de7b74b",
   "metadata": {},
   "outputs": [],
   "source": [
    "with open('partidos_limpio.geojson', 'r') as f:\n",
    "    partidos = json.load(f)\n",
    "    \n",
    "fig = px.choropleth_map(\n",
    "    repit, \n",
    "    geojson=partidos, \n",
    "    featureidkey = 'properties.cde',\n",
    "    locations='cde',\n",
    "    color='repitencia_secundaria',\n",
    "    zoom = 4, \n",
    "    center = {\"lat\": -34.61315, \"lon\": -58.37723},\n",
    ")\n",
    "\n",
    "fig.show()"
   ]
  },
  {
   "cell_type": "markdown",
   "id": "48479f49",
   "metadata": {},
   "source": [
    "Agregar argumentos a `choropleth_map` para que:\n",
    "1. la escala de color sea 'Bluered' (pueden ver otras escalas de color en este link)\n",
    "2. la opacidad del color sea de 0.7\n",
    "3. que al pasar el cursor sobre un partido, se muestre también su nombre"
   ]
  },
  {
   "cell_type": "code",
   "execution_count": null,
   "id": "cc519b5e-5a00-4435-ba04-89b79cd9af16",
   "metadata": {},
   "outputs": [],
   "source": [
    "# Generamos un gráfico interactivo para el nivel de repitencia\n",
    "\n",
    "# Si no existe chorpleth_map o alguna opcion del codigo en la siguiente celda, actualizar plotly con el siguiente comando y reiniciar el kernel.\n",
    "#!pip install plotly --upgrade\n",
    "\n",
    "# Si tienen algún error de Java después de instalar los paquetes actualizados y reiniciar el kernel, prueben refrescar el navegador con CTRL+F5."
   ]
  },
  {
   "cell_type": "markdown",
   "id": "00c228ce-bfb2-4002-9280-204ba22fbd5e",
   "metadata": {},
   "source": [
    "### Análisis exploratorio"
   ]
  },
  {
   "cell_type": "markdown",
   "id": "836d47b2",
   "metadata": {},
   "source": [
    "La idea de este ítem es que realicen un análisis exploratorio de los datos, aplicando las herramientas de visualización (seaborn.objects, seaborn y/o matplotlib), de resumen de datos (media, mediana, desvío estándar, operaciones sobre el DataFrame, etc.) y/o de Regresión.\n",
    "El objetivo es entender, comparar y/o estudiar aspectos en los indicadores educativos de los partidos de la Provincia de Buenos Aires. Algunas preguntas disparadoras pueden ser:\n",
    "- ¿Existe alguna relación entre la repitencia y los fondos enviados al partido para la educación?\n",
    "- ¿Podemos explicar por qué hay algunos partidos con repitencia muy superior al promedio?\n",
    "- ¿Qué relación hay entre la cantidad de habitantes y la cantidad de establecimientos educativos?\n",
    "- \n",
    "No es necesario que respondan a cada una de esas preguntas (ni se limiten a eso), lo mejor es que exploren por donde se les ocurra. Alentamos que se planteen hipótesis y usen los datos para corroborarlas o rechazarlas. Pueden aplicar cualquiera de las herramientas que hemos visto hasta ahora. Asimismo, pueden centrarse en un conjunto de partidos, en un conjunto de indicadores educativos, etc.\n",
    "\n",
    "A continuación dejamos otros datasets que pueden serles de ayuda (su uso es opcional):\n",
    "- [Establecimientos educativos](https://catalogo.datos.gba.gob.ar/dataset/establecimientos-educativos)\n",
    "- [Población](https://catalogo.datos.gba.gob.ar/dataset/poblacion)\n",
    "- [Transferencias a Consejos Escolares](https://catalogo.datos.gba.gob.ar/dataset/tranferencias-consejos-escolares)\n",
    "- [Transferencias a municipios](https://catalogo.datos.gba.gob.ar/dataset/transferencias-municipios)\n",
    "\n",
    "También pueden explorar datasets del Gobierno Nacional o de la Ciudad de Buenos Aires (pero\n",
    "que el análisis esté centrado en PBA).\n"
   ]
  },
  {
   "cell_type": "markdown",
   "id": "edf85d8d",
   "metadata": {},
   "source": [
    "**Importante**: en el Notebook, las visualizaciones y resúmenes de datos que realicen deben\n",
    "estar acompañados por las conclusiones que obtengan a partir de ellos."
   ]
  }
 ],
 "metadata": {
  "kernelspec": {
   "display_name": "labo-datos",
   "language": "python",
   "name": "python3"
  },
  "language_info": {
   "codemirror_mode": {
    "name": "ipython",
    "version": 3
   },
   "file_extension": ".py",
   "mimetype": "text/x-python",
   "name": "python",
   "nbconvert_exporter": "python",
   "pygments_lexer": "ipython3",
   "version": "3.13.2"
  }
 },
 "nbformat": 4,
 "nbformat_minor": 5
}
