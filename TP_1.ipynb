{
 "cells": [
  {
   "cell_type": "markdown",
   "id": "aa740aa9",
   "metadata": {
    "colab_type": "text",
    "id": "view-in-github"
   },
   "source": [
    "<a href=\"https://colab.research.google.com/github/lmendezayl/uba-ldd-tp1/blob/main/TP_1.ipynb\" target=\"_parent\"><img src=\"https://colab.research.google.com/assets/colab-badge.svg\" alt=\"Open In Colab\"/></a>"
   ]
  },
  {
   "cell_type": "markdown",
   "id": "5f162ac8-7675-4e21-8ad1-22ad24708467",
   "metadata": {
    "id": "5f162ac8-7675-4e21-8ad1-22ad24708467"
   },
   "source": [
    "# Trabajo Práctico 1 - Laboratorio de Datos - 1C 2025"
   ]
  },
  {
   "cell_type": "markdown",
   "id": "986b9ffd-7146-4fc6-91f7-cb67d8c1268f",
   "metadata": {
    "id": "986b9ffd-7146-4fc6-91f7-cb67d8c1268f"
   },
   "source": [
    "**Integrantes del grupo:**\n",
    "- Lautaro Evaristo Mendez\n",
    "- Franco Zalazar\n",
    "- Luca Emilio Petrarca"
   ]
  },
  {
   "cell_type": "code",
   "execution_count": null,
   "id": "6c86fc5e-5f3d-42f2-b6a2-e20353cb903f",
   "metadata": {
    "id": "6c86fc5e-5f3d-42f2-b6a2-e20353cb903f"
   },
   "outputs": [],
   "source": [
    "# Si requieren mas librerias, pueden importarlas aca\n",
    "import numpy as np\n",
    "import pandas as pd\n",
    "import geopandas as gpd\n",
    "import seaborn as sns\n",
    "import seaborn.objects as so\n",
    "import json\n",
    "import plotly.express as px\n",
    "from formulaic import Formula\n",
    "from sklearn import linear_model\n",
    "from sklearn.metrics import mean_squared_error, r2_score, root_mean_squared_error\n",
    "\n",
    "# Si no existe root_mean_squared_error, quitarlo o actualizar scikit-learn con el comando\n",
    "#!pip install scikit-learn --upgrade"
   ]
  },
  {
   "cell_type": "markdown",
   "id": "8hsH0TyyT_AS",
   "metadata": {
    "id": "8hsH0TyyT_AS"
   },
   "source": [
    "Trabajaremos con el dataset `indicadores-proceso-trayectoria-sobreedad-2012_2022.csv1` que\n",
    "contiene mediciones de variables educativas de la escuela primaria y secundaria en la Provincia de Buenos Aires (PBA) desde 2012 a 2022. En este [link](https://abc.gob.ar/secretarias/sites/default/files/2021-08/MANUAL%20METODOLÓGICO%20DE%20INDICADORES%20EDUCATIVOS-%202021.pdf) pueden consultar la descripción de cada variable."
   ]
  },
  {
   "cell_type": "code",
   "execution_count": 1,
   "id": "57a5e3f7-d24a-4aac-a682-74d27f6898f7",
   "metadata": {
    "colab": {
     "base_uri": "https://localhost:8080/",
     "height": 256
    },
    "id": "57a5e3f7-d24a-4aac-a682-74d27f6898f7",
    "outputId": "cbcad614-6c1d-4434-963e-210e6ae911eb"
   },
   "outputs": [
    {
     "ename": "NameError",
     "evalue": "name 'pd' is not defined",
     "output_type": "error",
     "traceback": [
      "\u001b[0;31m---------------------------------------------------------------------------\u001b[0m",
      "\u001b[0;31mNameError\u001b[0m                                 Traceback (most recent call last)",
      "Cell \u001b[0;32mIn[1], line 1\u001b[0m\n\u001b[0;32m----> 1\u001b[0m df_educacion \u001b[38;5;241m=\u001b[39m pd\u001b[38;5;241m.\u001b[39mread_csv(\u001b[38;5;124m'\u001b[39m\u001b[38;5;124m./indicadores-proceso-trayectoria-sobreedad-2012_2022.csv\u001b[39m\u001b[38;5;124m'\u001b[39m)\n\u001b[1;32m      2\u001b[0m df_educacion\u001b[38;5;241m.\u001b[39mhead()\n",
      "\u001b[0;31mNameError\u001b[0m: name 'pd' is not defined"
     ]
    }
   ],
   "source": [
    "df_educacion = pd.read_csv('./indicadores-proceso-trayectoria-sobreedad-2012_2022.csv')\n",
    "df_educacion.head()"
   ]
  },
  {
   "cell_type": "markdown",
   "id": "bc6786da-7ec9-453a-8f71-b5f4b83386e9",
   "metadata": {
    "id": "bc6786da-7ec9-453a-8f71-b5f4b83386e9"
   },
   "source": [
    "### Procesamiento de Datos\n",
    "\n",
    "En esta primera sección, vamos implementar algunas acciones básicas de procesamiento de nuestros datos"
   ]
  },
  {
   "cell_type": "markdown",
   "id": "88ef1408",
   "metadata": {
    "id": "88ef1408"
   },
   "source": [
    "#### Ejercicio 1\n",
    "Describir el tipo de variable de cada columna"
   ]
  },
  {
   "cell_type": "markdown",
   "id": "8DKR9xxJdYgj",
   "metadata": {
    "id": "8DKR9xxJdYgj"
   },
   "source": [
    "Descripcion de las columnas y sus tipo de datos:\n",
    "\n",
    "- `anio`: año en el que se realizó la medición. Es de tipo `int`.\n",
    "\n",
    "- `municipio_id`: número de identificación de cada municipio. Es de tipo `int`.\n",
    "- `municipio_nombre`: nombre del municipio. Es de tipo `string`. (dice`object` pero bueno).\n",
    "\n",
    "Las siguientes columnas reemplazan la `X` por `primaria` o por `secundaria`:\n",
    "- `promocion_efectiva_X`: porcentaje de alumnos que aprobaron las materias y pasaron de grado.  Tipo `float`.\n",
    "    - Se calcula  `promocion_efectiva_X = 100 - repitencia_X - reinscripcion_X - abandono_interanual_X`.\n",
    "  \n",
    "- `repitencia_X`: porcentaje de alumnos que repitieron grado. Tipo `float`.\n",
    "- `reinscripcion_X`: porcentaje de alumnos que dejaron los estudios y se reincorporaron al sistema. Tipo `float`.\n",
    "- `alumnos_promovidos_X`: porcentaje de alumnos que pasaron de grado. Tipo `float`.\n",
    "\n",
    "El siguiente grupo de indicadores de medición permite medir la eficiencia de la propia escuela, elaborado a partir de nuevas preguntas incluidas en los cuadernillos del Relevamiento Anual y los Relevamientos provinciales de la PBA:\n",
    "\n",
    "- `alumnos_promovidos_X`: porcentaje de alumnos que pasaron de grado. Tipo `float`.\n",
    "    - Se calcula como `alumnos_promovidos_X = 100 - alumnos_no_promovidos_X`.\n",
    "    - A diferencia del indicador tradicional de tasa de egreso (según su fórmula de cálculo, estima la probabilidad de egreso de un estudiante), este indicador mide qué porcentaje de estudiantes que asistieron hasta el último día de clases aprobaron todas las materias, ya sea en el mes de diciembre o en el período complementario de los meses de enero o febrero del año siguiente.\n",
    "\n",
    "- `alumnos_no_promovidos_X`: porcentaje de alumnos que no pasaron de grado (similar a una tasa de repetidores anual). Tipo `float`.\n",
    "- `salidos_sin_pase_X`: porcentaje de alumnos que abandonaron la escuela sin un pase de traslado a otra institución.\n",
    "- `salidos_con_pase_X`: porcentaje de alumnos que abandonaron la escuela con un pase para continuar sus estudios en otra institución.\n",
    "- `sobreedad_X`: porcentaje de alumnos atrasados en su trayectoria escolar. Tipo `float`.\n",
    "- `sobreedad_avanzada_X`: incluye sólo a los estudiantes que tienen dos o más años de atraso en su trayectoria escolar. Tipo `float`.\n",
    "\n",
    "    - Se considera un recorte de `sobreedad_X`, ya que permite estimar una sobreedad neta porque algunos estudiantes tienen un año de sobreedad sólo por una diferencia de días o meses de nacimiento respecto de la edad mínima de ingreso a la escuela según la normativa.\n",
    "\n",
    "\n",
    "\n"
   ]
  },
  {
   "cell_type": "code",
   "execution_count": null,
   "id": "f4dc9f52",
   "metadata": {},
   "outputs": [
    {
     "data": {
      "text/plain": [
       "anio                                  int64\n",
       "municipio_id                          int64\n",
       "municipio_nombre                     object\n",
       "promocion_efectiva_primaria         float64\n",
       "promocion_efectiva_secundaria       float64\n",
       "repitencia_primaria                 float64\n",
       "repitencia_secundaria               float64\n",
       "reinscripcion_primaria              float64\n",
       "reinscripcion_secundaria            float64\n",
       "abandono_interanual_primaria        float64\n",
       "abandono_interanual_secundaria      float64\n",
       "alumnos_promovidos_primaria         float64\n",
       "alumnos_promovidos_secundaria       float64\n",
       "alumnos_no_promovidos_primaria      float64\n",
       "alumnos_no_promovidos_secundaria    float64\n",
       "salidos_sin_pase_primaria           float64\n",
       "salidos_sin_pase_secundaria         float64\n",
       "salidos_con_pase_primaria           float64\n",
       "salidos_con_pase_secundaria         float64\n",
       "sobreedad_primaria                  float64\n",
       "sobreedad_secundaria                float64\n",
       "sobreedad_avanzada_primaria         float64\n",
       "sobreedad_avanzada_secundaria       float64\n",
       "zona                                 object\n",
       "mayor_repitencia_primaria              bool\n",
       "dtype: object"
      ]
     },
     "execution_count": 46,
     "metadata": {},
     "output_type": "execute_result"
    }
   ],
   "source": [
    "df_educacion.dtypes"
   ]
  },
  {
   "cell_type": "markdown",
   "id": "64060de9",
   "metadata": {
    "id": "64060de9"
   },
   "source": [
    "#### Ejercicio 2\n",
    "¿La base de datos contiene datos faltantes? ¿Cuántos?"
   ]
  },
  {
   "cell_type": "code",
   "execution_count": null,
   "id": "Y119QvD3SwvO",
   "metadata": {
    "colab": {
     "base_uri": "https://localhost:8080/",
     "height": 837
    },
    "id": "Y119QvD3SwvO",
    "outputId": "913b9929-568c-4890-e6cf-d37367cd43f7"
   },
   "outputs": [
    {
     "data": {
      "text/plain": [
       "anio                                0\n",
       "municipio_id                        0\n",
       "municipio_nombre                    0\n",
       "promocion_efectiva_primaria         0\n",
       "promocion_efectiva_secundaria       0\n",
       "repitencia_primaria                 0\n",
       "repitencia_secundaria               0\n",
       "reinscripcion_primaria              0\n",
       "reinscripcion_secundaria            0\n",
       "abandono_interanual_primaria        0\n",
       "abandono_interanual_secundaria      0\n",
       "alumnos_promovidos_primaria         0\n",
       "alumnos_promovidos_secundaria       0\n",
       "alumnos_no_promovidos_primaria      0\n",
       "alumnos_no_promovidos_secundaria    0\n",
       "salidos_sin_pase_primaria           0\n",
       "salidos_sin_pase_secundaria         0\n",
       "salidos_con_pase_primaria           0\n",
       "salidos_con_pase_secundaria         0\n",
       "sobreedad_primaria                  0\n",
       "sobreedad_secundaria                0\n",
       "sobreedad_avanzada_primaria         0\n",
       "sobreedad_avanzada_secundaria       0\n",
       "dtype: int64"
      ]
     },
     "execution_count": 4,
     "metadata": {},
     "output_type": "execute_result"
    }
   ],
   "source": [
    "df_educacion.isna().sum()"
   ]
  },
  {
   "cell_type": "markdown",
   "id": "anK1Sna2TkDT",
   "metadata": {
    "id": "anK1Sna2TkDT"
   },
   "source": [
    "La base de datos no contiene ningun dato faltante!"
   ]
  },
  {
   "cell_type": "markdown",
   "id": "1c338364",
   "metadata": {
    "id": "1c338364"
   },
   "source": [
    "#### Ejercicio 3\n",
    "Además de la división por municipio, nos interesa saber a que zona de la provincia pertenece cada municipio (Zona Norte, Zona Oeste , Zona Sur e Interior). Para esto:\n",
    "1. Implementar una función `determinar_zona` que, dado el nombre de un municipio, devuelva a que zona pertencece: ’Norte’, ’Oeste’, ’Sur’ o ’Interior’.\n",
    "2. Agregar la columna zona a `df_educacion` que contenga la zona a la que pertenece el\n",
    "municipio.\n",
    "*Sugerencia*: tener en cuenta el método `apply`"
   ]
  },
  {
   "cell_type": "code",
   "execution_count": null,
   "id": "cp4lt-fC1DAW",
   "metadata": {
    "colab": {
     "base_uri": "https://localhost:8080/"
    },
    "id": "cp4lt-fC1DAW",
    "outputId": "c72c658a-1ef5-4505-8960-7221f375e238"
   },
   "outputs": [
    {
     "name": "stdout",
     "output_type": "stream",
     "text": [
      "Norte\n",
      "Norte\n",
      "Oeste\n",
      "Sur\n",
      "Interior\n"
     ]
    }
   ],
   "source": [
    "def determinar_zona(municipio_nombre: str) -> str:\n",
    "    zona_norte = ['San Isidro', 'Vicente Lopez', 'General San Martin', 'San Fernando', 'Tigre']\n",
    "    zona_oeste = ['Moron', 'Tres de Febrero', 'La Matanza', 'Merlo', 'Moreno']\n",
    "    zona_sur = ['Almirante Brown', 'Avellaneda', 'Quilmes', 'Lanus', 'Florencio Varela', 'Berazategui', 'Lomas de Zamora', 'Esteban Echeverria']\n",
    "    zonas = {\n",
    "        \"Norte\" : zona_norte,\n",
    "        \"Sur\" : zona_sur,\n",
    "        \"Oeste\" : zona_oeste}\n",
    "\n",
    "    for zona in zonas.keys():\n",
    "        if municipio_nombre in zonas[zona]:\n",
    "            return zona\n",
    "    return \"Interior\"\n",
    "\n",
    "zonas_test = [\"San Isidro\", \"Vicente Lopez\", \"Merlo\", \"Avellaneda\", \"Guernica\"]\n",
    "for zona in zonas_test:\n",
    "    print(determinar_zona(zona))"
   ]
  },
  {
   "cell_type": "code",
   "execution_count": null,
   "id": "XCo5VfytDTgn",
   "metadata": {
    "colab": {
     "base_uri": "https://localhost:8080/",
     "height": 256
    },
    "id": "XCo5VfytDTgn",
    "outputId": "74a0070d-d34b-41f9-afa8-2b4e4e1ab7b4"
   },
   "outputs": [
    {
     "data": {
      "text/html": [
       "<div>\n",
       "<style scoped>\n",
       "    .dataframe tbody tr th:only-of-type {\n",
       "        vertical-align: middle;\n",
       "    }\n",
       "\n",
       "    .dataframe tbody tr th {\n",
       "        vertical-align: top;\n",
       "    }\n",
       "\n",
       "    .dataframe thead th {\n",
       "        text-align: right;\n",
       "    }\n",
       "</style>\n",
       "<table border=\"1\" class=\"dataframe\">\n",
       "  <thead>\n",
       "    <tr style=\"text-align: right;\">\n",
       "      <th></th>\n",
       "      <th>anio</th>\n",
       "      <th>municipio_id</th>\n",
       "      <th>municipio_nombre</th>\n",
       "      <th>promocion_efectiva_primaria</th>\n",
       "      <th>promocion_efectiva_secundaria</th>\n",
       "      <th>repitencia_primaria</th>\n",
       "      <th>repitencia_secundaria</th>\n",
       "      <th>reinscripcion_primaria</th>\n",
       "      <th>reinscripcion_secundaria</th>\n",
       "      <th>abandono_interanual_primaria</th>\n",
       "      <th>...</th>\n",
       "      <th>alumnos_no_promovidos_secundaria</th>\n",
       "      <th>salidos_sin_pase_primaria</th>\n",
       "      <th>salidos_sin_pase_secundaria</th>\n",
       "      <th>salidos_con_pase_primaria</th>\n",
       "      <th>salidos_con_pase_secundaria</th>\n",
       "      <th>sobreedad_primaria</th>\n",
       "      <th>sobreedad_secundaria</th>\n",
       "      <th>sobreedad_avanzada_primaria</th>\n",
       "      <th>sobreedad_avanzada_secundaria</th>\n",
       "      <th>zona</th>\n",
       "    </tr>\n",
       "  </thead>\n",
       "  <tbody>\n",
       "    <tr>\n",
       "      <th>0</th>\n",
       "      <td>2012</td>\n",
       "      <td>6007</td>\n",
       "      <td>Adolfo Alsina</td>\n",
       "      <td>100.26</td>\n",
       "      <td>84.14</td>\n",
       "      <td>1.25</td>\n",
       "      <td>9.06</td>\n",
       "      <td>0.07</td>\n",
       "      <td>1.79</td>\n",
       "      <td>-1.57</td>\n",
       "      <td>...</td>\n",
       "      <td>18.54</td>\n",
       "      <td>0.00</td>\n",
       "      <td>2.71</td>\n",
       "      <td>5.40</td>\n",
       "      <td>2.90</td>\n",
       "      <td>12.61</td>\n",
       "      <td>26.77</td>\n",
       "      <td>4.01</td>\n",
       "      <td>12.28</td>\n",
       "      <td>Interior</td>\n",
       "    </tr>\n",
       "    <tr>\n",
       "      <th>1</th>\n",
       "      <td>2013</td>\n",
       "      <td>6007</td>\n",
       "      <td>Adolfo Alsina</td>\n",
       "      <td>97.35</td>\n",
       "      <td>86.84</td>\n",
       "      <td>1.68</td>\n",
       "      <td>5.31</td>\n",
       "      <td>0.13</td>\n",
       "      <td>0.12</td>\n",
       "      <td>0.84</td>\n",
       "      <td>...</td>\n",
       "      <td>9.48</td>\n",
       "      <td>0.30</td>\n",
       "      <td>2.77</td>\n",
       "      <td>5.02</td>\n",
       "      <td>5.72</td>\n",
       "      <td>10.27</td>\n",
       "      <td>26.27</td>\n",
       "      <td>3.42</td>\n",
       "      <td>11.51</td>\n",
       "      <td>Interior</td>\n",
       "    </tr>\n",
       "    <tr>\n",
       "      <th>2</th>\n",
       "      <td>2014</td>\n",
       "      <td>6007</td>\n",
       "      <td>Adolfo Alsina</td>\n",
       "      <td>97.36</td>\n",
       "      <td>80.79</td>\n",
       "      <td>2.23</td>\n",
       "      <td>2.52</td>\n",
       "      <td>0.07</td>\n",
       "      <td>0.43</td>\n",
       "      <td>0.34</td>\n",
       "      <td>...</td>\n",
       "      <td>9.13</td>\n",
       "      <td>0.13</td>\n",
       "      <td>2.11</td>\n",
       "      <td>4.84</td>\n",
       "      <td>4.31</td>\n",
       "      <td>8.46</td>\n",
       "      <td>25.06</td>\n",
       "      <td>2.51</td>\n",
       "      <td>9.17</td>\n",
       "      <td>Interior</td>\n",
       "    </tr>\n",
       "    <tr>\n",
       "      <th>3</th>\n",
       "      <td>2015</td>\n",
       "      <td>6007</td>\n",
       "      <td>Adolfo Alsina</td>\n",
       "      <td>96.00</td>\n",
       "      <td>91.55</td>\n",
       "      <td>2.41</td>\n",
       "      <td>5.24</td>\n",
       "      <td>0.21</td>\n",
       "      <td>0.85</td>\n",
       "      <td>1.38</td>\n",
       "      <td>...</td>\n",
       "      <td>8.62</td>\n",
       "      <td>0.33</td>\n",
       "      <td>2.49</td>\n",
       "      <td>4.96</td>\n",
       "      <td>4.64</td>\n",
       "      <td>7.16</td>\n",
       "      <td>30.85</td>\n",
       "      <td>1.86</td>\n",
       "      <td>10.51</td>\n",
       "      <td>Interior</td>\n",
       "    </tr>\n",
       "    <tr>\n",
       "      <th>4</th>\n",
       "      <td>2016</td>\n",
       "      <td>6007</td>\n",
       "      <td>Adolfo Alsina</td>\n",
       "      <td>97.67</td>\n",
       "      <td>95.56</td>\n",
       "      <td>2.61</td>\n",
       "      <td>7.27</td>\n",
       "      <td>0.07</td>\n",
       "      <td>1.29</td>\n",
       "      <td>-0.35</td>\n",
       "      <td>...</td>\n",
       "      <td>6.95</td>\n",
       "      <td>0.14</td>\n",
       "      <td>2.79</td>\n",
       "      <td>4.72</td>\n",
       "      <td>3.57</td>\n",
       "      <td>6.81</td>\n",
       "      <td>26.13</td>\n",
       "      <td>1.69</td>\n",
       "      <td>8.24</td>\n",
       "      <td>Interior</td>\n",
       "    </tr>\n",
       "  </tbody>\n",
       "</table>\n",
       "<p>5 rows × 24 columns</p>\n",
       "</div>"
      ],
      "text/plain": [
       "   anio  municipio_id municipio_nombre  promocion_efectiva_primaria  \\\n",
       "0  2012          6007    Adolfo Alsina                       100.26   \n",
       "1  2013          6007    Adolfo Alsina                        97.35   \n",
       "2  2014          6007    Adolfo Alsina                        97.36   \n",
       "3  2015          6007    Adolfo Alsina                        96.00   \n",
       "4  2016          6007    Adolfo Alsina                        97.67   \n",
       "\n",
       "   promocion_efectiva_secundaria  repitencia_primaria  repitencia_secundaria  \\\n",
       "0                          84.14                 1.25                   9.06   \n",
       "1                          86.84                 1.68                   5.31   \n",
       "2                          80.79                 2.23                   2.52   \n",
       "3                          91.55                 2.41                   5.24   \n",
       "4                          95.56                 2.61                   7.27   \n",
       "\n",
       "   reinscripcion_primaria  reinscripcion_secundaria  \\\n",
       "0                    0.07                      1.79   \n",
       "1                    0.13                      0.12   \n",
       "2                    0.07                      0.43   \n",
       "3                    0.21                      0.85   \n",
       "4                    0.07                      1.29   \n",
       "\n",
       "   abandono_interanual_primaria  ...  alumnos_no_promovidos_secundaria  \\\n",
       "0                         -1.57  ...                             18.54   \n",
       "1                          0.84  ...                              9.48   \n",
       "2                          0.34  ...                              9.13   \n",
       "3                          1.38  ...                              8.62   \n",
       "4                         -0.35  ...                              6.95   \n",
       "\n",
       "   salidos_sin_pase_primaria  salidos_sin_pase_secundaria  \\\n",
       "0                       0.00                         2.71   \n",
       "1                       0.30                         2.77   \n",
       "2                       0.13                         2.11   \n",
       "3                       0.33                         2.49   \n",
       "4                       0.14                         2.79   \n",
       "\n",
       "   salidos_con_pase_primaria  salidos_con_pase_secundaria  sobreedad_primaria  \\\n",
       "0                       5.40                         2.90               12.61   \n",
       "1                       5.02                         5.72               10.27   \n",
       "2                       4.84                         4.31                8.46   \n",
       "3                       4.96                         4.64                7.16   \n",
       "4                       4.72                         3.57                6.81   \n",
       "\n",
       "   sobreedad_secundaria  sobreedad_avanzada_primaria  \\\n",
       "0                 26.77                         4.01   \n",
       "1                 26.27                         3.42   \n",
       "2                 25.06                         2.51   \n",
       "3                 30.85                         1.86   \n",
       "4                 26.13                         1.69   \n",
       "\n",
       "   sobreedad_avanzada_secundaria      zona  \n",
       "0                          12.28  Interior  \n",
       "1                          11.51  Interior  \n",
       "2                           9.17  Interior  \n",
       "3                          10.51  Interior  \n",
       "4                           8.24  Interior  \n",
       "\n",
       "[5 rows x 24 columns]"
      ]
     },
     "execution_count": 6,
     "metadata": {},
     "output_type": "execute_result"
    }
   ],
   "source": [
    "df_educacion[\"zona\"] = df_educacion[\"municipio_nombre\"].apply(determinar_zona)\n",
    "df_educacion.head()"
   ]
  },
  {
   "cell_type": "markdown",
   "id": "afefd563",
   "metadata": {
    "id": "afefd563"
   },
   "source": [
    "#### Ejercicio 4\n",
    "\n",
    "Quisiéramos analizar si en general la tasa de repitencia es más alta en primaria que en secundaria. Para esto:\n",
    "1. Agregar una columna `mayor_repitencia_primaria` a `df_educacion` que indique si ocurre\n",
    "esta situación.\n",
    "2. Mostrar en una Serie de `pandas` cuantas veces entre los años 2017 y 2022 (inclusive) la repitencia es más alta en primaria que en secundaria para cada municipio.\n",
    "3. Mostrar en un DataFrame la media de repitencia en primaria y la media de repitencia en secundaria agrupados por año y por zona."
   ]
  },
  {
   "cell_type": "code",
   "execution_count": null,
   "id": "B5H6QVS-Hp9Y",
   "metadata": {
    "colab": {
     "base_uri": "https://localhost:8080/",
     "height": 256
    },
    "id": "B5H6QVS-Hp9Y",
    "outputId": "11f604c8-5a7f-46a7-8213-9ceee0a7c0ab"
   },
   "outputs": [
    {
     "data": {
      "text/html": [
       "<div>\n",
       "<style scoped>\n",
       "    .dataframe tbody tr th:only-of-type {\n",
       "        vertical-align: middle;\n",
       "    }\n",
       "\n",
       "    .dataframe tbody tr th {\n",
       "        vertical-align: top;\n",
       "    }\n",
       "\n",
       "    .dataframe thead th {\n",
       "        text-align: right;\n",
       "    }\n",
       "</style>\n",
       "<table border=\"1\" class=\"dataframe\">\n",
       "  <thead>\n",
       "    <tr style=\"text-align: right;\">\n",
       "      <th></th>\n",
       "      <th>anio</th>\n",
       "      <th>municipio_id</th>\n",
       "      <th>municipio_nombre</th>\n",
       "      <th>promocion_efectiva_primaria</th>\n",
       "      <th>promocion_efectiva_secundaria</th>\n",
       "      <th>repitencia_primaria</th>\n",
       "      <th>repitencia_secundaria</th>\n",
       "      <th>reinscripcion_primaria</th>\n",
       "      <th>reinscripcion_secundaria</th>\n",
       "      <th>abandono_interanual_primaria</th>\n",
       "      <th>...</th>\n",
       "      <th>salidos_sin_pase_primaria</th>\n",
       "      <th>salidos_sin_pase_secundaria</th>\n",
       "      <th>salidos_con_pase_primaria</th>\n",
       "      <th>salidos_con_pase_secundaria</th>\n",
       "      <th>sobreedad_primaria</th>\n",
       "      <th>sobreedad_secundaria</th>\n",
       "      <th>sobreedad_avanzada_primaria</th>\n",
       "      <th>sobreedad_avanzada_secundaria</th>\n",
       "      <th>zona</th>\n",
       "      <th>mayor_repitencia_primaria</th>\n",
       "    </tr>\n",
       "  </thead>\n",
       "  <tbody>\n",
       "    <tr>\n",
       "      <th>0</th>\n",
       "      <td>2012</td>\n",
       "      <td>6007</td>\n",
       "      <td>Adolfo Alsina</td>\n",
       "      <td>100.26</td>\n",
       "      <td>84.14</td>\n",
       "      <td>1.25</td>\n",
       "      <td>9.06</td>\n",
       "      <td>0.07</td>\n",
       "      <td>1.79</td>\n",
       "      <td>-1.57</td>\n",
       "      <td>...</td>\n",
       "      <td>0.00</td>\n",
       "      <td>2.71</td>\n",
       "      <td>5.40</td>\n",
       "      <td>2.90</td>\n",
       "      <td>12.61</td>\n",
       "      <td>26.77</td>\n",
       "      <td>4.01</td>\n",
       "      <td>12.28</td>\n",
       "      <td>Interior</td>\n",
       "      <td>False</td>\n",
       "    </tr>\n",
       "    <tr>\n",
       "      <th>1</th>\n",
       "      <td>2013</td>\n",
       "      <td>6007</td>\n",
       "      <td>Adolfo Alsina</td>\n",
       "      <td>97.35</td>\n",
       "      <td>86.84</td>\n",
       "      <td>1.68</td>\n",
       "      <td>5.31</td>\n",
       "      <td>0.13</td>\n",
       "      <td>0.12</td>\n",
       "      <td>0.84</td>\n",
       "      <td>...</td>\n",
       "      <td>0.30</td>\n",
       "      <td>2.77</td>\n",
       "      <td>5.02</td>\n",
       "      <td>5.72</td>\n",
       "      <td>10.27</td>\n",
       "      <td>26.27</td>\n",
       "      <td>3.42</td>\n",
       "      <td>11.51</td>\n",
       "      <td>Interior</td>\n",
       "      <td>False</td>\n",
       "    </tr>\n",
       "    <tr>\n",
       "      <th>2</th>\n",
       "      <td>2014</td>\n",
       "      <td>6007</td>\n",
       "      <td>Adolfo Alsina</td>\n",
       "      <td>97.36</td>\n",
       "      <td>80.79</td>\n",
       "      <td>2.23</td>\n",
       "      <td>2.52</td>\n",
       "      <td>0.07</td>\n",
       "      <td>0.43</td>\n",
       "      <td>0.34</td>\n",
       "      <td>...</td>\n",
       "      <td>0.13</td>\n",
       "      <td>2.11</td>\n",
       "      <td>4.84</td>\n",
       "      <td>4.31</td>\n",
       "      <td>8.46</td>\n",
       "      <td>25.06</td>\n",
       "      <td>2.51</td>\n",
       "      <td>9.17</td>\n",
       "      <td>Interior</td>\n",
       "      <td>False</td>\n",
       "    </tr>\n",
       "    <tr>\n",
       "      <th>3</th>\n",
       "      <td>2015</td>\n",
       "      <td>6007</td>\n",
       "      <td>Adolfo Alsina</td>\n",
       "      <td>96.00</td>\n",
       "      <td>91.55</td>\n",
       "      <td>2.41</td>\n",
       "      <td>5.24</td>\n",
       "      <td>0.21</td>\n",
       "      <td>0.85</td>\n",
       "      <td>1.38</td>\n",
       "      <td>...</td>\n",
       "      <td>0.33</td>\n",
       "      <td>2.49</td>\n",
       "      <td>4.96</td>\n",
       "      <td>4.64</td>\n",
       "      <td>7.16</td>\n",
       "      <td>30.85</td>\n",
       "      <td>1.86</td>\n",
       "      <td>10.51</td>\n",
       "      <td>Interior</td>\n",
       "      <td>False</td>\n",
       "    </tr>\n",
       "    <tr>\n",
       "      <th>4</th>\n",
       "      <td>2016</td>\n",
       "      <td>6007</td>\n",
       "      <td>Adolfo Alsina</td>\n",
       "      <td>97.67</td>\n",
       "      <td>95.56</td>\n",
       "      <td>2.61</td>\n",
       "      <td>7.27</td>\n",
       "      <td>0.07</td>\n",
       "      <td>1.29</td>\n",
       "      <td>-0.35</td>\n",
       "      <td>...</td>\n",
       "      <td>0.14</td>\n",
       "      <td>2.79</td>\n",
       "      <td>4.72</td>\n",
       "      <td>3.57</td>\n",
       "      <td>6.81</td>\n",
       "      <td>26.13</td>\n",
       "      <td>1.69</td>\n",
       "      <td>8.24</td>\n",
       "      <td>Interior</td>\n",
       "      <td>False</td>\n",
       "    </tr>\n",
       "  </tbody>\n",
       "</table>\n",
       "<p>5 rows × 25 columns</p>\n",
       "</div>"
      ],
      "text/plain": [
       "   anio  municipio_id municipio_nombre  promocion_efectiva_primaria  \\\n",
       "0  2012          6007    Adolfo Alsina                       100.26   \n",
       "1  2013          6007    Adolfo Alsina                        97.35   \n",
       "2  2014          6007    Adolfo Alsina                        97.36   \n",
       "3  2015          6007    Adolfo Alsina                        96.00   \n",
       "4  2016          6007    Adolfo Alsina                        97.67   \n",
       "\n",
       "   promocion_efectiva_secundaria  repitencia_primaria  repitencia_secundaria  \\\n",
       "0                          84.14                 1.25                   9.06   \n",
       "1                          86.84                 1.68                   5.31   \n",
       "2                          80.79                 2.23                   2.52   \n",
       "3                          91.55                 2.41                   5.24   \n",
       "4                          95.56                 2.61                   7.27   \n",
       "\n",
       "   reinscripcion_primaria  reinscripcion_secundaria  \\\n",
       "0                    0.07                      1.79   \n",
       "1                    0.13                      0.12   \n",
       "2                    0.07                      0.43   \n",
       "3                    0.21                      0.85   \n",
       "4                    0.07                      1.29   \n",
       "\n",
       "   abandono_interanual_primaria  ...  salidos_sin_pase_primaria  \\\n",
       "0                         -1.57  ...                       0.00   \n",
       "1                          0.84  ...                       0.30   \n",
       "2                          0.34  ...                       0.13   \n",
       "3                          1.38  ...                       0.33   \n",
       "4                         -0.35  ...                       0.14   \n",
       "\n",
       "   salidos_sin_pase_secundaria  salidos_con_pase_primaria  \\\n",
       "0                         2.71                       5.40   \n",
       "1                         2.77                       5.02   \n",
       "2                         2.11                       4.84   \n",
       "3                         2.49                       4.96   \n",
       "4                         2.79                       4.72   \n",
       "\n",
       "   salidos_con_pase_secundaria  sobreedad_primaria  sobreedad_secundaria  \\\n",
       "0                         2.90               12.61                 26.77   \n",
       "1                         5.72               10.27                 26.27   \n",
       "2                         4.31                8.46                 25.06   \n",
       "3                         4.64                7.16                 30.85   \n",
       "4                         3.57                6.81                 26.13   \n",
       "\n",
       "   sobreedad_avanzada_primaria  sobreedad_avanzada_secundaria      zona  \\\n",
       "0                         4.01                          12.28  Interior   \n",
       "1                         3.42                          11.51  Interior   \n",
       "2                         2.51                           9.17  Interior   \n",
       "3                         1.86                          10.51  Interior   \n",
       "4                         1.69                           8.24  Interior   \n",
       "\n",
       "   mayor_repitencia_primaria  \n",
       "0                      False  \n",
       "1                      False  \n",
       "2                      False  \n",
       "3                      False  \n",
       "4                      False  \n",
       "\n",
       "[5 rows x 25 columns]"
      ]
     },
     "execution_count": 7,
     "metadata": {},
     "output_type": "execute_result"
    }
   ],
   "source": [
    "# 1\n",
    "df_educacion['mayor_repitencia_primaria'] = df_educacion['repitencia_primaria'] > df_educacion['repitencia_secundaria']\n",
    "df_educacion.head()"
   ]
  },
  {
   "cell_type": "code",
   "execution_count": null,
   "id": "VnoLBwfUQNTb",
   "metadata": {
    "colab": {
     "base_uri": "https://localhost:8080/",
     "height": 287
    },
    "id": "VnoLBwfUQNTb",
    "outputId": "8ca6876f-6487-4360-e47a-9b5b9dd1c9a2"
   },
   "outputs": [
    {
     "data": {
      "text/plain": [
       "Adolfo Alsina      1\n",
       "Alberti            1\n",
       "Almirante Brown    1\n",
       "Arrecifes          1\n",
       "Avellaneda         1\n",
       "                  ..\n",
       "25 de Mayo         1\n",
       "Vicente Lopez      1\n",
       "Villa Gesell       2\n",
       "Villarino          1\n",
       "Zarate             1\n",
       "Length: 135, dtype: int64"
      ]
     },
     "execution_count": 8,
     "metadata": {},
     "output_type": "execute_result"
    }
   ],
   "source": [
    "# 2\n",
    "municipios = df_educacion['municipio_nombre'].unique() # array de todos los municipios\n",
    "df_educacion_2017_2022 = df_educacion[df_educacion['anio'] >= 2017] # no hace falta poner que es menor que 2022 ya que es el maximo del conjunto de años.\n",
    "cant_repitencia_2017_2022 = pd.Series()\n",
    "\n",
    "for municipio in municipios:\n",
    "    # dataframe temporal, siempre que se llame df_cache\n",
    "    df_cache = df_educacion_2017_2022[df_educacion_2017_2022['municipio_nombre'] == municipio]\n",
    "    cant_repitencia_2017_2022[municipio] = np.sum(df_cache['mayor_repitencia_primaria'])\n",
    "\n",
    "cant_repitencia_2017_2022"
   ]
  },
  {
   "cell_type": "code",
   "execution_count": null,
   "id": "0716a172",
   "metadata": {},
   "outputs": [
    {
     "data": {
      "text/plain": [
       "True"
      ]
     },
     "execution_count": 66,
     "metadata": {},
     "output_type": "execute_result"
    }
   ],
   "source": [
    "# 2. Mostrar en una Serie de `pandas` cuantas veces entre los años 2017 y 2022 (inclusive) la repitencia es más alta en primaria que en secundaria para cada municipio.\n",
    "cant_repitencias_2017_2022 = (\n",
    "df_educacion[(df_educacion['anio'] >= 2017) & (df_educacion['mayor_repitencia_primaria'] == True)]\n",
    ".groupby('municipio_nombre')['mayor_repitencia_primaria']\n",
    ".count()\n",
    ".reindex(df_educacion['municipio_nombre'].unique(), fill_value=0)\n",
    ")\n",
    "\n",
    "np.any(cant_repitencias_2017_2022 == cant_repitencia_2017_2022)\n"
   ]
  },
  {
   "cell_type": "code",
   "execution_count": null,
   "id": "2109b753",
   "metadata": {},
   "outputs": [
    {
     "data": {
      "text/html": [
       "<div>\n",
       "<style scoped>\n",
       "    .dataframe tbody tr th:only-of-type {\n",
       "        vertical-align: middle;\n",
       "    }\n",
       "\n",
       "    .dataframe tbody tr th {\n",
       "        vertical-align: top;\n",
       "    }\n",
       "\n",
       "    .dataframe thead th {\n",
       "        text-align: right;\n",
       "    }\n",
       "</style>\n",
       "<table border=\"1\" class=\"dataframe\">\n",
       "  <thead>\n",
       "    <tr style=\"text-align: right;\">\n",
       "      <th></th>\n",
       "      <th>anio</th>\n",
       "      <th>zona</th>\n",
       "      <th>media_repitencia_primaria</th>\n",
       "      <th>media_repitencia_secundaria</th>\n",
       "    </tr>\n",
       "  </thead>\n",
       "  <tbody>\n",
       "    <tr>\n",
       "      <th>0</th>\n",
       "      <td>2012</td>\n",
       "      <td>Interior</td>\n",
       "      <td>2.457350</td>\n",
       "      <td>10.699316</td>\n",
       "    </tr>\n",
       "    <tr>\n",
       "      <th>1</th>\n",
       "      <td>2012</td>\n",
       "      <td>Norte</td>\n",
       "      <td>1.634000</td>\n",
       "      <td>8.978000</td>\n",
       "    </tr>\n",
       "    <tr>\n",
       "      <th>2</th>\n",
       "      <td>2012</td>\n",
       "      <td>Oeste</td>\n",
       "      <td>2.346000</td>\n",
       "      <td>9.932000</td>\n",
       "    </tr>\n",
       "    <tr>\n",
       "      <th>3</th>\n",
       "      <td>2012</td>\n",
       "      <td>Sur</td>\n",
       "      <td>2.470000</td>\n",
       "      <td>10.208750</td>\n",
       "    </tr>\n",
       "    <tr>\n",
       "      <th>4</th>\n",
       "      <td>2013</td>\n",
       "      <td>Interior</td>\n",
       "      <td>1.771368</td>\n",
       "      <td>10.499402</td>\n",
       "    </tr>\n",
       "  </tbody>\n",
       "</table>\n",
       "</div>"
      ],
      "text/plain": [
       "   anio      zona  media_repitencia_primaria  media_repitencia_secundaria\n",
       "0  2012  Interior                   2.457350                    10.699316\n",
       "1  2012     Norte                   1.634000                     8.978000\n",
       "2  2012     Oeste                   2.346000                     9.932000\n",
       "3  2012       Sur                   2.470000                    10.208750\n",
       "4  2013  Interior                   1.771368                    10.499402"
      ]
     },
     "execution_count": 9,
     "metadata": {},
     "output_type": "execute_result"
    }
   ],
   "source": [
    "# 3\n",
    "\n",
    "df_media_repitencia = (\n",
    "    df_educacion\n",
    "    .groupby(['anio', 'zona'])\n",
    "    .agg({\n",
    "        'repitencia_primaria': 'mean',\n",
    "        'repitencia_secundaria': 'mean'\n",
    "        })\n",
    "    .reset_index()\n",
    "    .rename(columns={\n",
    "        'repitencia_primaria': 'media_repitencia_primaria',\n",
    "        'repitencia_secundaria': 'media_repitencia_secundaria'\n",
    "        })\n",
    ")\n",
    "df_media_repitencia.head()"
   ]
  },
  {
   "cell_type": "markdown",
   "id": "0a00ea3f-44e6-450c-92d7-19fd50455b66",
   "metadata": {
    "id": "0a00ea3f-44e6-450c-92d7-19fd50455b66"
   },
   "source": [
    "### Regresión\n",
    "En esta sección, sugerimos que, una vez realizada una Regresión, utilicen los valores de $β_0$ y $β_1$ para predecir, en vez del método `predict` de `scikit-learn`."
   ]
  },
  {
   "cell_type": "markdown",
   "id": "3d8574c7",
   "metadata": {
    "id": "3d8574c7"
   },
   "source": [
    "#### Ejercicio 1\n",
    "Reproducir el siguiente gráfico sobre la evolución de la sobreedad en secundaria promedio en la Provincia de Buenos Aires a lo largo de los años:"
   ]
  },
  {
   "cell_type": "code",
   "execution_count": null,
   "id": "6380ca5e",
   "metadata": {},
   "outputs": [
    {
     "data": {
      "text/html": [
       "<div>\n",
       "<style scoped>\n",
       "    .dataframe tbody tr th:only-of-type {\n",
       "        vertical-align: middle;\n",
       "    }\n",
       "\n",
       "    .dataframe tbody tr th {\n",
       "        vertical-align: top;\n",
       "    }\n",
       "\n",
       "    .dataframe thead th {\n",
       "        text-align: right;\n",
       "    }\n",
       "</style>\n",
       "<table border=\"1\" class=\"dataframe\">\n",
       "  <thead>\n",
       "    <tr style=\"text-align: right;\">\n",
       "      <th></th>\n",
       "      <th>anio</th>\n",
       "      <th>sobreedad</th>\n",
       "    </tr>\n",
       "  </thead>\n",
       "  <tbody>\n",
       "    <tr>\n",
       "      <th>0</th>\n",
       "      <td>2012</td>\n",
       "      <td>35.344074</td>\n",
       "    </tr>\n",
       "    <tr>\n",
       "      <th>1</th>\n",
       "      <td>2013</td>\n",
       "      <td>32.554889</td>\n",
       "    </tr>\n",
       "    <tr>\n",
       "      <th>2</th>\n",
       "      <td>2014</td>\n",
       "      <td>31.719704</td>\n",
       "    </tr>\n",
       "    <tr>\n",
       "      <th>3</th>\n",
       "      <td>2015</td>\n",
       "      <td>30.535333</td>\n",
       "    </tr>\n",
       "    <tr>\n",
       "      <th>4</th>\n",
       "      <td>2016</td>\n",
       "      <td>29.719556</td>\n",
       "    </tr>\n",
       "    <tr>\n",
       "      <th>5</th>\n",
       "      <td>2017</td>\n",
       "      <td>28.883259</td>\n",
       "    </tr>\n",
       "    <tr>\n",
       "      <th>6</th>\n",
       "      <td>2018</td>\n",
       "      <td>27.584370</td>\n",
       "    </tr>\n",
       "    <tr>\n",
       "      <th>7</th>\n",
       "      <td>2019</td>\n",
       "      <td>26.282370</td>\n",
       "    </tr>\n",
       "    <tr>\n",
       "      <th>8</th>\n",
       "      <td>2020</td>\n",
       "      <td>24.578519</td>\n",
       "    </tr>\n",
       "    <tr>\n",
       "      <th>9</th>\n",
       "      <td>2021</td>\n",
       "      <td>22.097556</td>\n",
       "    </tr>\n",
       "    <tr>\n",
       "      <th>10</th>\n",
       "      <td>2022</td>\n",
       "      <td>19.804667</td>\n",
       "    </tr>\n",
       "  </tbody>\n",
       "</table>\n",
       "</div>"
      ],
      "text/plain": [
       "    anio  sobreedad\n",
       "0   2012  35.344074\n",
       "1   2013  32.554889\n",
       "2   2014  31.719704\n",
       "3   2015  30.535333\n",
       "4   2016  29.719556\n",
       "5   2017  28.883259\n",
       "6   2018  27.584370\n",
       "7   2019  26.282370\n",
       "8   2020  24.578519\n",
       "9   2021  22.097556\n",
       "10  2022  19.804667"
      ]
     },
     "execution_count": 71,
     "metadata": {},
     "output_type": "execute_result"
    }
   ],
   "source": [
    "\n",
    "df_media_sobreedad_secundaria = df_educacion[['anio', 'sobreedad_secundaria']].copy()\n",
    "df_media_sobreedad_secundaria = (\n",
    "    df_media_sobreedad_secundaria\n",
    "    .groupby([\"anio\"])\n",
    "    .mean()\n",
    "    .reset_index()\n",
    "    .rename(columns={'sobreedad_secundaria' : 'sobreedad'})\n",
    ")\n",
    "df_media_sobreedad_secundaria"
   ]
  },
  {
   "cell_type": "code",
   "execution_count": null,
   "id": "1e645ffa",
   "metadata": {},
   "outputs": [
    {
     "data": {
      "image/png": "[encoded data removed]",
      "text/plain": [
       "<seaborn._core.plot.Plot at 0x204c2379b50>"
      ]
     },
     "execution_count": 75,
     "metadata": {
      "image/png": {
       "height": 378.25,
       "width": 631.975
      }
     },
     "output_type": "execute_result"
    }
   ],
   "source": [
    "(\n",
    "    so.Plot(data=df_media_sobreedad_secundaria, \n",
    "            x=df_media_sobreedad_secundaria[\"anio\"],\n",
    "            y=df_media_sobreedad_secundaria[\"sobreedad\"])\n",
    "    .add(so.Line(linestyle='dashed', color=\"black\"), so.PolyFit(1), label=\"Ajuste lineal\")\n",
    "    .add(so.Dot())\n",
    "    .label(\n",
    "        title=\"Sobreedad secundaria promedio PBA\",\n",
    "        x=\"Año\",\n",
    "        y=\"Sobreedad\",   \n",
    "    )\n",
    "    .theme({\"axes.facecolor\": \"w\"}) # lo tuve que buscar: https://seaborn.pydata.org/generated/seaborn.objects.Plot.theme.html\n",
    ")\n",
    "\n",
    "# agregar conclusion?"
   ]
  },
  {
   "cell_type": "markdown",
   "id": "35096dea",
   "metadata": {
    "id": "35096dea"
   },
   "source": [
    "#### Ejercicio 2\n",
    "Realizando una Regresión Lineal, predecir para el año 2025 la sobreedad en secundaria promedio en la Provincia de Buenos Aires"
   ]
  },
  {
   "cell_type": "code",
   "execution_count": null,
   "id": "6530f182",
   "metadata": {},
   "outputs": [
    {
     "data": {
      "text/plain": [
       "17.07558787878679"
      ]
     },
     "execution_count": 76,
     "metadata": {},
     "output_type": "execute_result"
    }
   ],
   "source": [
    "y, X = Formula('sobreedad ~ anio').get_model_matrix(df_media_sobreedad_secundaria)\n",
    "modelo = linear_model.LinearRegression(fit_intercept=False)\n",
    "modelo.fit(X, y)\n",
    "beta_0, beta_1 = modelo.coef_[0]\n",
    "prediccion_2025 = beta_0 + beta_1*2025\n",
    "prediccion_2025"
   ]
  },
  {
   "cell_type": "markdown",
   "id": "66e19ca3",
   "metadata": {
    "id": "66e19ca3"
   },
   "source": [
    "#### Ejercicio 3\n",
    "Para cada municipio del Área Metropolitana, mediante Regresión Lineal, predecir la sobreedad en secundaria para el 2025. Elaborar un DataFrame indexado por el nombre del municipio, con dos columnas: `sobreedad_2025` con el resultado de la predicción para 2025\n",
    "y `menor_que_promedio` que indique con un booleano si la predicción es menor al valor calculado en el ítem anterior.\n",
    "\n",
    "**Sugerencia**: puede basarse en la siguiente estructura\n"
   ]
  },
  {
   "cell_type": "code",
   "execution_count": null,
   "id": "bde02e07",
   "metadata": {},
   "outputs": [],
   "source": [
    "area_metropolitana = ['Almirante Brown', 'Avellaneda', 'Berazategui', 'Berisso', 'Brandsen', 'Campana', 'Cañuelas',\n",
    "                      'Ensenada', 'Escobar', 'Esteban Echeverria', 'Exaltacion de la Cruz', 'Ezeiza',\n",
    "                      'Florencio Varela', 'General Las Heras', 'General Rodriguez', 'General San Martin', 'Hurlingham',\n",
    "                      'Ituzaingo', 'Jose C. Paz', 'La Matanza', 'La Plata', 'Lanus', 'Lujan', 'Lomas de Zamora',\n",
    "                      'Malvinas Argentinas', 'Marcos Paz', 'Merlo', 'Moreno', 'Moron', 'Pilar', 'Presidente Peron',\n",
    "                      'Quilmes', 'San Fernando', 'San Isidro', 'San Miguel', 'San Vicente', 'Tigre', 'Tres de Febrero',\n",
    "                      'Vicente Lopez', 'Zarate']"
   ]
  },
  {
   "cell_type": "code",
   "execution_count": null,
   "id": "728e8914",
   "metadata": {
    "id": "728e8914",
    "outputId": "3e303a02-e251-48b6-b4f0-647e4c9b023f"
   },
   "outputs": [
    {
     "data": {
      "text/html": [
       "<div>\n",
       "<style scoped>\n",
       "    .dataframe tbody tr th:only-of-type {\n",
       "        vertical-align: middle;\n",
       "    }\n",
       "\n",
       "    .dataframe tbody tr th {\n",
       "        vertical-align: top;\n",
       "    }\n",
       "\n",
       "    .dataframe thead th {\n",
       "        text-align: right;\n",
       "    }\n",
       "</style>\n",
       "<table border=\"1\" class=\"dataframe\">\n",
       "  <thead>\n",
       "    <tr style=\"text-align: right;\">\n",
       "      <th></th>\n",
       "      <th>sobreedad_2025</th>\n",
       "      <th>menor_que_promedio</th>\n",
       "    </tr>\n",
       "  </thead>\n",
       "  <tbody>\n",
       "    <tr>\n",
       "      <th>Almirante Brown</th>\n",
       "      <td>15.068727</td>\n",
       "      <td>True</td>\n",
       "    </tr>\n",
       "    <tr>\n",
       "      <th>Avellaneda</th>\n",
       "      <td>24.418727</td>\n",
       "      <td>False</td>\n",
       "    </tr>\n",
       "    <tr>\n",
       "      <th>Berazategui</th>\n",
       "      <td>19.230182</td>\n",
       "      <td>False</td>\n",
       "    </tr>\n",
       "    <tr>\n",
       "      <th>Berisso</th>\n",
       "      <td>28.410727</td>\n",
       "      <td>False</td>\n",
       "    </tr>\n",
       "    <tr>\n",
       "      <th>Brandsen</th>\n",
       "      <td>20.656727</td>\n",
       "      <td>False</td>\n",
       "    </tr>\n",
       "  </tbody>\n",
       "</table>\n",
       "</div>"
      ],
      "text/plain": [
       "                 sobreedad_2025  menor_que_promedio\n",
       "Almirante Brown       15.068727                True\n",
       "Avellaneda            24.418727               False\n",
       "Berazategui           19.230182               False\n",
       "Berisso               28.410727               False\n",
       "Brandsen              20.656727               False"
      ]
     },
     "execution_count": 92,
     "metadata": {},
     "output_type": "execute_result"
    }
   ],
   "source": [
    "\n",
    "prediccion_data = []\n",
    "menor_que_promedio_data = []\n",
    "for municipio in area_metropolitana:\n",
    "    df_partidos = df_educacion[df_educacion['municipio_nombre'] == municipio]\n",
    "    y, X = Formula(\"sobreedad_secundaria ~ anio\").get_model_matrix(df_partidos)\n",
    "    modelo_p = linear_model.LinearRegression(fit_intercept=False)\n",
    "    modelo_p.fit(X, y)\n",
    "    beta_0, beta_1 = modelo_p.coef_[0]\n",
    "    prediccion = beta_0 + beta_1 * 2025\n",
    "    prediccion_data.append(prediccion)\n",
    "    menor_que_promedio_data.append(prediccion < prediccion_2025)\n",
    "\n",
    "predicciones_df = pd.DataFrame(\n",
    "    data = {'sobreedad_2025': prediccion_data, 'menor_que_promedio': menor_que_promedio_data},\n",
    "    index = area_metropolitana\n",
    ")\n",
    "\n",
    "\n",
    "\n",
    "predicciones_df.head()\n"
   ]
  },
  {
   "cell_type": "markdown",
   "id": "f5a6c683-6fd5-4556-b3f0-ded5227d7a72",
   "metadata": {
    "id": "f5a6c683-6fd5-4556-b3f0-ded5227d7a72"
   },
   "source": [
    "### Visualización con datos geográficos\n",
    "El objetivo de esta parte del TP es visualizar datos sobre un mapa de Buenos Aires. Para esto, utilizaremos las librerías `geopandas`, que nos permite trabajar con un .geojson como si fuera un DataFrame de `pandas`, y `plotly` para generar mapas interactivos"
   ]
  },
  {
   "cell_type": "markdown",
   "id": "48474f28",
   "metadata": {
    "id": "48474f28"
   },
   "source": [
    "#### Ejercicio 1\n",
    "Cargar los datos de `partidos.geojson` utilizando `geopandas`:\n",
    "\n"
   ]
  },
  {
   "cell_type": "code",
   "execution_count": null,
   "id": "4a4c200f",
   "metadata": {
    "id": "4a4c200f"
   },
   "outputs": [],
   "source": [
    "# Cargamos el archivo de datos\n",
    "geo_df = gpd.read_file('partidos.geojson')"
   ]
  },
  {
   "cell_type": "markdown",
   "id": "43180c16",
   "metadata": {
    "id": "43180c16"
   },
   "source": [
    "\n",
    "Si imprimimos `geo_df` observamos que cada fila corresponde a un municipio con distintas\n",
    "características y, además, hay una columna `geometry` que tiene las coordenadas de los límites de los partidos. Pueden visualizar estos datos con `geo_df.plot()`."
   ]
  },
  {
   "cell_type": "code",
   "execution_count": null,
   "id": "75c2f6d5",
   "metadata": {
    "id": "75c2f6d5"
   },
   "outputs": [
    {
     "data": {
      "text/plain": [
       "<Axes: >"
      ]
     },
     "execution_count": 34,
     "metadata": {},
     "output_type": "execute_result"
    },
    {
     "data": {
      "image/png": "[encoded data removed]",
      "text/plain": [
       "<Figure size 640x480 with 1 Axes>"
      ]
     },
     "metadata": {},
     "output_type": "display_data"
    }
   ],
   "source": [
    "# Visualizamos los partidos\n",
    "geo_df.plot()"
   ]
  },
  {
   "cell_type": "markdown",
   "id": "7rDp4dOxLkHv",
   "metadata": {
    "id": "7rDp4dOxLkHv"
   },
   "source": [
    "#### Ejercicio 2\n",
    "Identificar qué columna se corresponde al número de identificación de cada municipio. Mostrar\n",
    "todos los municipios con números de identificación repetidos.\n",
    "**Sugerencia**: utilizar el argumento `keep` del método `duplicated`"
   ]
  },
  {
   "cell_type": "code",
   "execution_count": null,
   "id": "e5520129",
   "metadata": {},
   "outputs": [
    {
     "name": "stdout",
     "output_type": "stream",
     "text": [
      "134\n",
      "143\n",
      "\n",
      " 28                  Ramallo\n",
      "29              San Nicolás\n",
      "35                   Zárate\n",
      "38                  Campana\n",
      "58                    Tigre\n",
      "65                 Baradero\n",
      "76                Chascomús\n",
      "103            San Fernando\n",
      "104               San Pedro\n",
      "126          Islas Baradero\n",
      "127         Islas de Zárate\n",
      "128      Islas San Fernando\n",
      "130           Islas Ramallo\n",
      "131         Islas San Pedro\n",
      "135                  Lezama\n",
      "139           Islas Campana\n",
      "141             Islas Tigre\n",
      "142    Islas de San Nicolas\n",
      "Name: nam, dtype: object\n"
     ]
    },
    {
     "data": {
      "text/html": [
       "<div>\n",
       "<style scoped>\n",
       "    .dataframe tbody tr th:only-of-type {\n",
       "        vertical-align: middle;\n",
       "    }\n",
       "\n",
       "    .dataframe tbody tr th {\n",
       "        vertical-align: top;\n",
       "    }\n",
       "\n",
       "    .dataframe thead th {\n",
       "        text-align: right;\n",
       "    }\n",
       "</style>\n",
       "<table border=\"1\" class=\"dataframe\">\n",
       "  <thead>\n",
       "    <tr style=\"text-align: right;\">\n",
       "      <th></th>\n",
       "      <th>cca</th>\n",
       "      <th>cde</th>\n",
       "      <th>fna</th>\n",
       "      <th>gna</th>\n",
       "      <th>nam</th>\n",
       "      <th>sag</th>\n",
       "      <th>ara3</th>\n",
       "      <th>arl</th>\n",
       "      <th>geometry</th>\n",
       "    </tr>\n",
       "  </thead>\n",
       "  <tbody>\n",
       "    <tr>\n",
       "      <th>0</th>\n",
       "      <td>045</td>\n",
       "      <td>06357</td>\n",
       "      <td>Partido de General Pueyrredón</td>\n",
       "      <td>Partido</td>\n",
       "      <td>General Pueyrredón</td>\n",
       "      <td>ARBA</td>\n",
       "      <td>1463.50</td>\n",
       "      <td>1460.74</td>\n",
       "      <td>MULTIPOLYGON (((-57.54 -38.06, -57.53 -38.05, ...</td>\n",
       "    </tr>\n",
       "    <tr>\n",
       "      <th>1</th>\n",
       "      <td>055</td>\n",
       "      <td>06441</td>\n",
       "      <td>Partido de La Plata</td>\n",
       "      <td>Partido</td>\n",
       "      <td>La Plata</td>\n",
       "      <td>ARBA</td>\n",
       "      <td>892.63</td>\n",
       "      <td>942.23</td>\n",
       "      <td>MULTIPOLYGON (((-58.14 -34.99, -58.13 -35, -58...</td>\n",
       "    </tr>\n",
       "    <tr>\n",
       "      <th>2</th>\n",
       "      <td>070</td>\n",
       "      <td>06427</td>\n",
       "      <td>Partido de La Matanza</td>\n",
       "      <td>Partido</td>\n",
       "      <td>La Matanza</td>\n",
       "      <td>ARBA</td>\n",
       "      <td>328.19</td>\n",
       "      <td>329.22</td>\n",
       "      <td>MULTIPOLYGON (((-58.58 -34.65, -58.58 -34.65, ...</td>\n",
       "    </tr>\n",
       "    <tr>\n",
       "      <th>3</th>\n",
       "      <td>030</td>\n",
       "      <td>06260</td>\n",
       "      <td>Partido de Esteban Echeverría</td>\n",
       "      <td>Partido</td>\n",
       "      <td>Esteban Echeverría</td>\n",
       "      <td>ARBA</td>\n",
       "      <td>120.45</td>\n",
       "      <td>120.22</td>\n",
       "      <td>MULTIPOLYGON (((-58.51 -34.73, -58.51 -34.73, ...</td>\n",
       "    </tr>\n",
       "    <tr>\n",
       "      <th>4</th>\n",
       "      <td>074</td>\n",
       "      <td>06560</td>\n",
       "      <td>Partido de Moreno</td>\n",
       "      <td>Partido</td>\n",
       "      <td>Moreno</td>\n",
       "      <td>ARBA</td>\n",
       "      <td>186.05</td>\n",
       "      <td>186.13</td>\n",
       "      <td>MULTIPOLYGON (((-58.78 -34.56, -58.77 -34.56, ...</td>\n",
       "    </tr>\n",
       "  </tbody>\n",
       "</table>\n",
       "</div>"
      ],
      "text/plain": [
       "   cca    cde                            fna      gna                 nam  \\\n",
       "0  045  06357  Partido de General Pueyrredón  Partido  General Pueyrredón   \n",
       "1  055  06441            Partido de La Plata  Partido            La Plata   \n",
       "2  070  06427          Partido de La Matanza  Partido          La Matanza   \n",
       "3  030  06260  Partido de Esteban Echeverría  Partido  Esteban Echeverría   \n",
       "4  074  06560              Partido de Moreno  Partido              Moreno   \n",
       "\n",
       "    sag     ara3      arl                                           geometry  \n",
       "0  ARBA  1463.50  1460.74  MULTIPOLYGON (((-57.54 -38.06, -57.53 -38.05, ...  \n",
       "1  ARBA   892.63   942.23  MULTIPOLYGON (((-58.14 -34.99, -58.13 -35, -58...  \n",
       "2  ARBA   328.19   329.22  MULTIPOLYGON (((-58.58 -34.65, -58.58 -34.65, ...  \n",
       "3  ARBA   120.45   120.22  MULTIPOLYGON (((-58.51 -34.73, -58.51 -34.73, ...  \n",
       "4  ARBA   186.05   186.13  MULTIPOLYGON (((-58.78 -34.56, -58.77 -34.56, ...  "
      ]
     },
     "execution_count": 35,
     "metadata": {},
     "output_type": "execute_result"
    }
   ],
   "source": [
    "\n",
    "# cde tiene el numero de identificacion!\n",
    "print(len(geo_df['cde'].unique()))\n",
    "print(len(geo_df['cde']))\n",
    "\n",
    "# asume que solo se repiten dos veces... no se me ocurrio otra manera sin usar keep\n",
    "nombres = pd.concat([geo_df[geo_df['cde'].duplicated(keep='last')]['nam'], geo_df[geo_df['cde'].duplicated(keep='first')]['nam']])\n",
    "print(\"\\n\", nombres)\n",
    "\n",
    "\n",
    "geo_df.head()"
   ]
  },
  {
   "cell_type": "markdown",
   "id": "de025320",
   "metadata": {
    "id": "de025320"
   },
   "source": [
    "#### Ejercicio 3\n",
    "Aplicar las siguientes modificaciones a `geo_df`:\n",
    "1. eliminar las filas que correspondan a islas de partidos (por ejemplo, Islas Ramallo).\n",
    "2. convertir la columna `cde` a numérica (recordar el método `astype`)\n",
    "3. corregir los valores en la columna cde para los partidos de Chascomús y Lezama, para\n",
    "que coincidan con sus valores en la columna `municipio_id` de `df_educacion`. **Sugerencia**: puede basarse en el siguiente código para corregir los valores:\n",
    "\n",
    "`geo_df.loc[geo_df[???] == ???, <columna a modificar>] = ???`\n",
    "\n",
    "Finalmente, exportar `geo_df` como un GeoJSON llamado `partidos_limpio.geojson`:"
   ]
  },
  {
   "cell_type": "code",
   "execution_count": null,
   "id": "12cc7d23",
   "metadata": {},
   "outputs": [
    {
     "data": {
      "text/plain": [
       "6466"
      ]
     },
     "execution_count": 36,
     "metadata": {},
     "output_type": "execute_result"
    }
   ],
   "source": [
    "df_educacion[df_educacion['municipio_nombre'] == 'Lezama']['municipio_id'].unique()[0]"
   ]
  },
  {
   "cell_type": "code",
   "execution_count": null,
   "id": "1073d734",
   "metadata": {},
   "outputs": [
    {
     "ename": "KeyError",
     "evalue": "'nam'",
     "output_type": "error",
     "traceback": [
      "\u001b[1;31m---------------------------------------------------------------------------\u001b[0m",
      "\u001b[1;31mKeyError\u001b[0m                                  Traceback (most recent call last)",
      "Cell \u001b[1;32mIn[45], line 22\u001b[0m\n\u001b[0;32m     15\u001b[0m     \u001b[38;5;28;01mreturn\u001b[39;00m df\n\u001b[0;32m     17\u001b[0m geo_df\n\u001b[0;32m     20\u001b[0m geo_df \u001b[38;5;241m=\u001b[39m (\n\u001b[0;32m     21\u001b[0m  geo_df\u001b[38;5;241m.\u001b[39mcopy()\n\u001b[1;32m---> 22\u001b[0m  \u001b[38;5;241m.\u001b[39mpipe(eliminar_islas)\n\u001b[0;32m     23\u001b[0m  \u001b[38;5;241m.\u001b[39mpipe(mapear_ids_chascomus_lezama)\n\u001b[0;32m     24\u001b[0m      )\n\u001b[0;32m     26\u001b[0m geo_df \u001b[38;5;241m=\u001b[39m geo_df[\u001b[38;5;124m'\u001b[39m\u001b[38;5;124mcde\u001b[39m\u001b[38;5;124m'\u001b[39m]\u001b[38;5;241m.\u001b[39mastype(\u001b[38;5;28mint\u001b[39m)\n\u001b[0;32m     28\u001b[0m geo_df\n",
      "File \u001b[1;32md:\\anaconda\\Lib\\site-packages\\pandas\\core\\generic.py:6231\u001b[0m, in \u001b[0;36mNDFrame.pipe\u001b[1;34m(self, func, *args, **kwargs)\u001b[0m\n\u001b[0;32m   6229\u001b[0m \u001b[38;5;28;01mif\u001b[39;00m using_copy_on_write():\n\u001b[0;32m   6230\u001b[0m     \u001b[38;5;28;01mreturn\u001b[39;00m common\u001b[38;5;241m.\u001b[39mpipe(\u001b[38;5;28mself\u001b[39m\u001b[38;5;241m.\u001b[39mcopy(deep\u001b[38;5;241m=\u001b[39m\u001b[38;5;28;01mNone\u001b[39;00m), func, \u001b[38;5;241m*\u001b[39margs, \u001b[38;5;241m*\u001b[39m\u001b[38;5;241m*\u001b[39mkwargs)\n\u001b[1;32m-> 6231\u001b[0m \u001b[38;5;28;01mreturn\u001b[39;00m common\u001b[38;5;241m.\u001b[39mpipe(\u001b[38;5;28mself\u001b[39m, func, \u001b[38;5;241m*\u001b[39margs, \u001b[38;5;241m*\u001b[39m\u001b[38;5;241m*\u001b[39mkwargs)\n",
      "File \u001b[1;32md:\\anaconda\\Lib\\site-packages\\pandas\\core\\common.py:502\u001b[0m, in \u001b[0;36mpipe\u001b[1;34m(obj, func, *args, **kwargs)\u001b[0m\n\u001b[0;32m    500\u001b[0m     \u001b[38;5;28;01mreturn\u001b[39;00m func(\u001b[38;5;241m*\u001b[39margs, \u001b[38;5;241m*\u001b[39m\u001b[38;5;241m*\u001b[39mkwargs)\n\u001b[0;32m    501\u001b[0m \u001b[38;5;28;01melse\u001b[39;00m:\n\u001b[1;32m--> 502\u001b[0m     \u001b[38;5;28;01mreturn\u001b[39;00m func(obj, \u001b[38;5;241m*\u001b[39margs, \u001b[38;5;241m*\u001b[39m\u001b[38;5;241m*\u001b[39mkwargs)\n",
      "Cell \u001b[1;32mIn[45], line 2\u001b[0m, in \u001b[0;36meliminar_islas\u001b[1;34m(df)\u001b[0m\n\u001b[0;32m      1\u001b[0m \u001b[38;5;28;01mdef\u001b[39;00m \u001b[38;5;21meliminar_islas\u001b[39m(df):\n\u001b[1;32m----> 2\u001b[0m     df[\u001b[38;5;124m'\u001b[39m\u001b[38;5;124mnam\u001b[39m\u001b[38;5;124m'\u001b[39m]\u001b[38;5;241m.\u001b[39mapply(\u001b[38;5;28;01mlambda\u001b[39;00m s: s\u001b[38;5;241m.\u001b[39mstartswith(\u001b[38;5;124m\"\u001b[39m\u001b[38;5;124mIslas\u001b[39m\u001b[38;5;124m\"\u001b[39m))\n\u001b[0;32m      3\u001b[0m     \u001b[38;5;28;01mreturn\u001b[39;00m df\n",
      "File \u001b[1;32md:\\anaconda\\Lib\\site-packages\\pandas\\core\\series.py:1121\u001b[0m, in \u001b[0;36mSeries.__getitem__\u001b[1;34m(self, key)\u001b[0m\n\u001b[0;32m   1118\u001b[0m     \u001b[38;5;28;01mreturn\u001b[39;00m \u001b[38;5;28mself\u001b[39m\u001b[38;5;241m.\u001b[39m_values[key]\n\u001b[0;32m   1120\u001b[0m \u001b[38;5;28;01melif\u001b[39;00m key_is_scalar:\n\u001b[1;32m-> 1121\u001b[0m     \u001b[38;5;28;01mreturn\u001b[39;00m \u001b[38;5;28mself\u001b[39m\u001b[38;5;241m.\u001b[39m_get_value(key)\n\u001b[0;32m   1123\u001b[0m \u001b[38;5;66;03m# Convert generator to list before going through hashable part\u001b[39;00m\n\u001b[0;32m   1124\u001b[0m \u001b[38;5;66;03m# (We will iterate through the generator there to check for slices)\u001b[39;00m\n\u001b[0;32m   1125\u001b[0m \u001b[38;5;28;01mif\u001b[39;00m is_iterator(key):\n",
      "File \u001b[1;32md:\\anaconda\\Lib\\site-packages\\pandas\\core\\series.py:1237\u001b[0m, in \u001b[0;36mSeries._get_value\u001b[1;34m(self, label, takeable)\u001b[0m\n\u001b[0;32m   1234\u001b[0m     \u001b[38;5;28;01mreturn\u001b[39;00m \u001b[38;5;28mself\u001b[39m\u001b[38;5;241m.\u001b[39m_values[label]\n\u001b[0;32m   1236\u001b[0m \u001b[38;5;66;03m# Similar to Index.get_value, but we do not fall back to positional\u001b[39;00m\n\u001b[1;32m-> 1237\u001b[0m loc \u001b[38;5;241m=\u001b[39m \u001b[38;5;28mself\u001b[39m\u001b[38;5;241m.\u001b[39mindex\u001b[38;5;241m.\u001b[39mget_loc(label)\n\u001b[0;32m   1239\u001b[0m \u001b[38;5;28;01mif\u001b[39;00m is_integer(loc):\n\u001b[0;32m   1240\u001b[0m     \u001b[38;5;28;01mreturn\u001b[39;00m \u001b[38;5;28mself\u001b[39m\u001b[38;5;241m.\u001b[39m_values[loc]\n",
      "File \u001b[1;32md:\\anaconda\\Lib\\site-packages\\pandas\\core\\indexes\\range.py:417\u001b[0m, in \u001b[0;36mRangeIndex.get_loc\u001b[1;34m(self, key)\u001b[0m\n\u001b[0;32m    415\u001b[0m         \u001b[38;5;28;01mraise\u001b[39;00m \u001b[38;5;167;01mKeyError\u001b[39;00m(key) \u001b[38;5;28;01mfrom\u001b[39;00m \u001b[38;5;21;01merr\u001b[39;00m\n\u001b[0;32m    416\u001b[0m \u001b[38;5;28;01mif\u001b[39;00m \u001b[38;5;28misinstance\u001b[39m(key, Hashable):\n\u001b[1;32m--> 417\u001b[0m     \u001b[38;5;28;01mraise\u001b[39;00m \u001b[38;5;167;01mKeyError\u001b[39;00m(key)\n\u001b[0;32m    418\u001b[0m \u001b[38;5;28mself\u001b[39m\u001b[38;5;241m.\u001b[39m_check_indexing_error(key)\n\u001b[0;32m    419\u001b[0m \u001b[38;5;28;01mraise\u001b[39;00m \u001b[38;5;167;01mKeyError\u001b[39;00m(key)\n",
      "\u001b[1;31mKeyError\u001b[0m: 'nam'"
     ]
    }
   ],
   "source": [
    "\n",
    "def eliminar_islas(df):\n",
    "    df['nam'].apply(lambda s: s.startswith(\"Islas\"))\n",
    "    return df\n",
    "\n",
    "def cambiar_columna(df):\n",
    "    df = df['cde'].astype(int)\n",
    "    return df\n",
    "\n",
    "def mapear_ids_chascomus_lezama(df):\n",
    "    nuevo_id_chascomus = df_educacion[df_educacion['municipio_nombre'] == 'Chascomus']['municipio_id'].unique()[0]\n",
    "    nuevo_id_lezama = df_educacion[df_educacion['municipio_nombre'] == 'Lezama']['municipio_id'].unique()[0]\n",
    "    viejo_id_chascomus = df[df['nam'] == 'Chascomús']['cde'].unique()[0]\n",
    "    viejo_id_lezama = df[df['nam'] == 'Lezama']['cde'].unique()[0]\n",
    "    df['cde'].replace({viejo_id_chascomus: nuevo_id_chascomus, viejo_id_lezama: nuevo_id_lezama})\n",
    "    return df\n",
    "\n",
    "geo_df\n",
    "\n",
    "\n",
    "geo_df = (\n",
    " geo_df.copy()\n",
    " .pipe(eliminar_islas)\n",
    " .pipe(mapear_ids_chascomus_lezama)\n",
    "     )\n",
    "\n",
    "geo_df = geo_df['cde'].astype(int)\n",
    "\n",
    "geo_df"
   ]
  },
  {
   "cell_type": "code",
   "execution_count": null,
   "id": "0799a3b2",
   "metadata": {
    "id": "0799a3b2"
   },
   "outputs": [],
   "source": [
    "# Grabamos los datos limpios en un nuevo archivo GeoJSON\n",
    "geo_df.to_file('partidos_limpio.geojson', driver='GeoJSON')"
   ]
  },
  {
   "cell_type": "code",
   "execution_count": null,
   "id": "50696f20",
   "metadata": {
    "id": "50696f20"
   },
   "outputs": [],
   "source": [
    "# Limpieza de datos. Seguir las indicaciones en la consigna del TP para este paso.\n"
   ]
  },
  {
   "cell_type": "markdown",
   "id": "f81c7add",
   "metadata": {
    "id": "f81c7add"
   },
   "source": [
    "#### Ejercicio 4\n",
    "A partir del DataFrame `df_educacion`, crear un DataFrame `repit` que tenga tres colum-\n",
    "nas: `cde` con el código del municipio, `municipio_nombre` con el nombre del municipio y\n",
    "`repitencia_secundaria` con el promedio de repitencia en secundaria del municipio.\n",
    "\n",
    "**Sugerencia**: Partir de `df_educacion.groupby(['municipio_id', 'municipio_nombre'])`.\n",
    "Si obtienen una serie con multi-indices, pueden convertirlo a DataFrame con columnas para los índices utilizando `.reset_index()`. O si ingresan el nombre de la columna `repitencia_secundaria` entre doble corchetes, obtienen también un DataFrame con las tres columnas"
   ]
  },
  {
   "cell_type": "code",
   "execution_count": null,
   "id": "a3ae70c0",
   "metadata": {
    "id": "a3ae70c0"
   },
   "outputs": [
    {
     "data": {
      "text/plain": [
       "municipio_id  municipio_nombre      \n",
       "6007          Adolfo Alsina              5.600000\n",
       "6014          Adolfo Gonzales Chaves     8.960000\n",
       "6021          Alberti                    7.790000\n",
       "6028          Almirante Brown            8.197273\n",
       "6035          Avellaneda                 9.252727\n",
       "                                          ...    \n",
       "6854          25 de Mayo                 7.293636\n",
       "6861          Vicente Lopez              5.488182\n",
       "6868          Villa Gesell               7.985455\n",
       "6875          Villarino                 10.423636\n",
       "6882          Zarate                     8.372727\n",
       "Name: repitencia_secundaria, Length: 135, dtype: float64"
      ]
     },
     "execution_count": 30,
     "metadata": {},
     "output_type": "execute_result"
    }
   ],
   "source": [
    "# Creamos un DataFrame repit con los datos de repitencia siguiendo la consigna del TP\n",
    "\n",
    "#repit = pd.concat([df_educacion.groupby(['municipio_id', 'municipio_nombre'])])\n",
    "\n",
    "\n",
    "# para matchear tengo que \n",
    "# cde con el codigo de las columnas\n",
    "df_educacion.groupby(['municipio_id', 'municipio_nombre'])['repitencia_secundaria'].mean()\n",
    "\n"
   ]
  },
  {
   "cell_type": "markdown",
   "id": "26791890",
   "metadata": {
    "id": "26791890"
   },
   "source": [
    "#### Ejercicio 5\n",
    "Con el siguiente código podemos elaborar un mapa interactivo:"
   ]
  },
  {
   "cell_type": "code",
   "execution_count": null,
   "id": "3de7b74b",
   "metadata": {
    "id": "3de7b74b"
   },
   "outputs": [
    {
     "ename": "NameError",
     "evalue": "name 'repit' is not defined",
     "output_type": "error",
     "traceback": [
      "\u001b[0;31m---------------------------------------------------------------------------\u001b[0m",
      "\u001b[0;31mNameError\u001b[0m                                 Traceback (most recent call last)",
      "Cell \u001b[0;32mIn[17], line 5\u001b[0m\n\u001b[1;32m      1\u001b[0m \u001b[38;5;28;01mwith\u001b[39;00m \u001b[38;5;28mopen\u001b[39m(\u001b[38;5;124m'\u001b[39m\u001b[38;5;124mpartidos_limpio.geojson\u001b[39m\u001b[38;5;124m'\u001b[39m, \u001b[38;5;124m'\u001b[39m\u001b[38;5;124mr\u001b[39m\u001b[38;5;124m'\u001b[39m) \u001b[38;5;28;01mas\u001b[39;00m f:\n\u001b[1;32m      2\u001b[0m     partidos \u001b[38;5;241m=\u001b[39m json\u001b[38;5;241m.\u001b[39mload(f)\n\u001b[1;32m      4\u001b[0m fig \u001b[38;5;241m=\u001b[39m px\u001b[38;5;241m.\u001b[39mchoropleth_map(\n\u001b[0;32m----> 5\u001b[0m     repit,\n\u001b[1;32m      6\u001b[0m     geojson\u001b[38;5;241m=\u001b[39mpartidos,\n\u001b[1;32m      7\u001b[0m     featureidkey \u001b[38;5;241m=\u001b[39m \u001b[38;5;124m'\u001b[39m\u001b[38;5;124mproperties.cde\u001b[39m\u001b[38;5;124m'\u001b[39m,\n\u001b[1;32m      8\u001b[0m     locations\u001b[38;5;241m=\u001b[39m\u001b[38;5;124m'\u001b[39m\u001b[38;5;124mcde\u001b[39m\u001b[38;5;124m'\u001b[39m,\n\u001b[1;32m      9\u001b[0m     color\u001b[38;5;241m=\u001b[39m\u001b[38;5;124m'\u001b[39m\u001b[38;5;124mrepitencia_secundaria\u001b[39m\u001b[38;5;124m'\u001b[39m,\n\u001b[1;32m     10\u001b[0m     zoom \u001b[38;5;241m=\u001b[39m \u001b[38;5;241m4\u001b[39m,\n\u001b[1;32m     11\u001b[0m     center \u001b[38;5;241m=\u001b[39m {\u001b[38;5;124m\"\u001b[39m\u001b[38;5;124mlat\u001b[39m\u001b[38;5;124m\"\u001b[39m: \u001b[38;5;241m-\u001b[39m\u001b[38;5;241m34.61315\u001b[39m, \u001b[38;5;124m\"\u001b[39m\u001b[38;5;124mlon\u001b[39m\u001b[38;5;124m\"\u001b[39m: \u001b[38;5;241m-\u001b[39m\u001b[38;5;241m58.37723\u001b[39m},\n\u001b[1;32m     12\u001b[0m )\n\u001b[1;32m     14\u001b[0m fig\u001b[38;5;241m.\u001b[39mshow()\n",
      "\u001b[0;31mNameError\u001b[0m: name 'repit' is not defined"
     ]
    }
   ],
   "source": [
    "with open('partidos_limpio.geojson', 'r') as f:\n",
    "    partidos = json.load(f)\n",
    "\n",
    "fig = px.choropleth_map(\n",
    "    repit,\n",
    "    geojson=partidos,\n",
    "    featureidkey = 'properties.cde',\n",
    "    locations='cde',\n",
    "    color='repitencia_secundaria',\n",
    "    zoom = 4,\n",
    "    center = {\"lat\": -34.61315, \"lon\": -58.37723},\n",
    ")\n",
    "\n",
    "fig.show()"
   ]
  },
  {
   "cell_type": "markdown",
   "id": "48479f49",
   "metadata": {
    "id": "48479f49"
   },
   "source": [
    "Agregar argumentos a `choropleth_map` para que:\n",
    "1. la escala de color sea 'Bluered' (pueden ver otras escalas de color en este link)\n",
    "2. la opacidad del color sea de 0.7\n",
    "3. que al pasar el cursor sobre un partido, se muestre también su nombre"
   ]
  },
  {
   "cell_type": "code",
   "execution_count": null,
   "id": "cc519b5e-5a00-4435-ba04-89b79cd9af16",
   "metadata": {
    "id": "cc519b5e-5a00-4435-ba04-89b79cd9af16"
   },
   "outputs": [],
   "source": [
    "# Generamos un gráfico interactivo para el nivel de repitencia\n",
    "\n",
    "# Si no existe chorpleth_map o alguna opcion del codigo en la siguiente celda, actualizar plotly con el siguiente comando y reiniciar el kernel.\n",
    "#!pip install plotly --upgrade\n",
    "\n",
    "# Si tienen algún error de Java después de instalar los paquetes actualizados y reiniciar el kernel, prueben refrescar el navegador con CTRL+F5."
   ]
  },
  {
   "cell_type": "markdown",
   "id": "00c228ce-bfb2-4002-9280-204ba22fbd5e",
   "metadata": {
    "id": "00c228ce-bfb2-4002-9280-204ba22fbd5e"
   },
   "source": [
    "### Análisis exploratorio"
   ]
  },
  {
   "cell_type": "markdown",
   "id": "836d47b2",
   "metadata": {
    "id": "836d47b2"
   },
   "source": [
    "La idea de este ítem es que realicen un análisis exploratorio de los datos, aplicando las herramientas de visualización (seaborn.objects, seaborn y/o matplotlib), de resumen de datos (media, mediana, desvío estándar, operaciones sobre el DataFrame, etc.) y/o de Regresión.\n",
    "El objetivo es entender, comparar y/o estudiar aspectos en los indicadores educativos de los partidos de la Provincia de Buenos Aires. Algunas preguntas disparadoras pueden ser:\n",
    "- ¿Existe alguna relación entre la repitencia y los fondos enviados al partido para la educación?\n",
    "- ¿Podemos explicar por qué hay algunos partidos con repitencia muy superior al promedio?\n",
    "- ¿Qué relación hay entre la cantidad de habitantes y la cantidad de establecimientos educativos?\n",
    "-\n",
    "No es necesario que respondan a cada una de esas preguntas (ni se limiten a eso), lo mejor es que exploren por donde se les ocurra. Alentamos que se planteen hipótesis y usen los datos para corroborarlas o rechazarlas. Pueden aplicar cualquiera de las herramientas que hemos visto hasta ahora. Asimismo, pueden centrarse en un conjunto de partidos, en un conjunto de indicadores educativos, etc.\n",
    "\n",
    "A continuación dejamos otros datasets que pueden serles de ayuda (su uso es opcional):\n",
    "- [Establecimientos educativos](https://catalogo.datos.gba.gob.ar/dataset/establecimientos-educativos)\n",
    "- [Población](https://catalogo.datos.gba.gob.ar/dataset/poblacion)\n",
    "- [Transferencias a Consejos Escolares](https://catalogo.datos.gba.gob.ar/dataset/tranferencias-consejos-escolares)\n",
    "- [Transferencias a municipios](https://catalogo.datos.gba.gob.ar/dataset/transferencias-municipios)\n",
    "\n",
    "También pueden explorar datasets del Gobierno Nacional o de la Ciudad de Buenos Aires (pero\n",
    "que el análisis esté centrado en PBA).\n"
   ]
  },
  {
   "cell_type": "markdown",
   "id": "edf85d8d",
   "metadata": {
    "id": "edf85d8d"
   },
   "source": [
    "**Importante**: en el Notebook, las visualizaciones y resúmenes de datos que realicen deben\n",
    "estar acompañados por las conclusiones que obtengan a partir de ellos."
   ]
  },
  {
   "cell_type": "markdown",
   "id": "54fd7046",
   "metadata": {},
   "source": [
    "- ver si podemos hacer algo con la pandemia, pensarlo\n",
    "- llegar al absurdo (usar https://censo.gob.ar/index.php/datos_definitivos_bsas)\n",
    "  - migraciones\n",
    "  - \n",
    "  - condiciones habitacionales de la poblacion\n",
    "    - relacion con condiciones de la casa(mas pobre, clase media) con el internet\n",
    "    - **ver si se puede hacer un dataframe que contega columnas anio | municipio_nombre | alguna tasa de la tabla df_educacion | columnas de condiciones habitaciones(agua, internet, banios etc)** vamos a usar este! nos dieron el ok, hands on\n",
    "      - crear un modelo que prediga alguna tasa? ver si nos dejan (o si nos da el)\n",
    "  - algun heatmap de la provincia de bsas con alguna de las tasas de df_edcacion? maybe? quizas descubrimos algunos \"clusters\" que se forman, testear "
   ]
  },
  {
   "cell_type": "markdown",
   "id": "604b97a4",
   "metadata": {},
   "source": [
    "tareas: \n",
    "- bajar csvs\n",
    "- parsearlos en un archivo py\n",
    "- formalizar preguntar porque no hay ni un ? en lo de arriba\n",
    "\n"
   ]
  },
  {
   "cell_type": "markdown",
   "id": "0909a905",
   "metadata": {},
   "source": [
    "Los municipios con peores condiciones habitacionales en 2022 tienen mayores tasas de abandono/repitecia en 2022\n",
    "\n",
    "Justificación: La precariedad habitacional suele correlacionarse con vulnerabilidad socioeconómica, que impacta en la asistencia y desempeño escolar"
   ]
  },
  {
   "cell_type": "markdown",
   "id": "fcd4eebd",
   "metadata": {},
   "source": [
    "La sobreedad avanzada está asociada a municipios con mayor densidad poblacional y hacinamiento\n",
    "\n",
    "Justificación: El hacinamiento dificulta el estudio en el hogar, generando rezago escolar acumulado."
   ]
  },
  {
   "cell_type": "markdown",
   "id": "d709e7cd",
   "metadata": {},
   "source": [
    "\n",
    "Los municipios con mejor infraestructura habitacional tienen menor variabilidad en las tasas de abandono (2012-2022)\n",
    "\n",
    "La estabilidad en las condiciones de vida podría amortiguar crisis económicas o sociales que afectan la deserción escolar."
   ]
  },
  {
   "cell_type": "markdown",
   "id": "c3ba4048",
   "metadata": {},
   "source": []
  }
 ],
 "metadata": {
  "colab": {
   "include_colab_link": true,
   "provenance": []
  },
  "kernelspec": {
   "display_name": "labo-datos",
   "language": "python",
   "name": "python3"
  },
  "language_info": {
   "codemirror_mode": {
    "name": "ipython",
    "version": 3
   },
   "file_extension": ".py",
   "mimetype": "text/x-python",
   "name": "python",
   "nbconvert_exporter": "python",
   "pygments_lexer": "ipython3",
   "version": "3.13.2"
  }
 },
 "nbformat": 4,
 "nbformat_minor": 5
}
